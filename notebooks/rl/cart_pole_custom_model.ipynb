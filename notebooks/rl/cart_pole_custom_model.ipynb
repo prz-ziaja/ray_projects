{
 "cells": [
  {
   "cell_type": "code",
   "execution_count": 1,
   "id": "e50db880",
   "metadata": {
    "scrolled": true
   },
   "outputs": [
    {
     "name": "stderr",
     "output_type": "stream",
     "text": [
      "2023-11-21 23:46:15,757\tINFO util.py:159 -- Missing packages: ['ipywidgets']. Run `pip install -U ipywidgets`, then restart the notebook server for rich notebook output.\n",
      "2023-11-21 23:46:17,630\tINFO worker.py:1664 -- Started a local Ray instance. View the dashboard at \u001b[1m\u001b[32m127.0.0.1:8265 \u001b[39m\u001b[22m\n"
     ]
    },
    {
     "data": {
      "text/html": [
       "<div class=\"lm-Widget p-Widget lm-Panel p-Panel jp-Cell-outputWrapper\">\n",
       "    <div style=\"margin-left: 50px;display: flex;flex-direction: row;align-items: center\">\n",
       "        <div class=\"jp-RenderedHTMLCommon\" style=\"display: flex; flex-direction: row;\">\n",
       "  <svg viewBox=\"0 0 567 224\" fill=\"none\" xmlns=\"http://www.w3.org/2000/svg\" style=\"height: 3em;\">\n",
       "    <g clip-path=\"url(#clip0_4338_178347)\">\n",
       "        <path d=\"M341.29 165.561H355.29L330.13 129.051C345.63 123.991 354.21 112.051 354.21 94.2307C354.21 71.3707 338.72 58.1807 311.88 58.1807H271V165.561H283.27V131.661H311.8C314.25 131.661 316.71 131.501 319.01 131.351L341.25 165.561H341.29ZM283.29 119.851V70.0007H311.82C331.3 70.0007 342.34 78.2907 342.34 94.5507C342.34 111.271 331.34 119.861 311.82 119.861L283.29 119.851ZM451.4 138.411L463.4 165.561H476.74L428.74 58.1807H416L367.83 165.561H380.83L392.83 138.411H451.4ZM446.19 126.601H398L422 72.1407L446.24 126.601H446.19ZM526.11 128.741L566.91 58.1807H554.35L519.99 114.181L485.17 58.1807H472.44L514.01 129.181V165.541H526.13V128.741H526.11Z\" fill=\"var(--jp-ui-font-color0)\"/>\n",
       "        <path d=\"M82.35 104.44C84.0187 97.8827 87.8248 92.0678 93.1671 87.9146C98.5094 83.7614 105.083 81.5067 111.85 81.5067C118.617 81.5067 125.191 83.7614 130.533 87.9146C135.875 92.0678 139.681 97.8827 141.35 104.44H163.75C164.476 101.562 165.622 98.8057 167.15 96.2605L127.45 56.5605C121.071 60.3522 113.526 61.6823 106.235 60.3005C98.9443 58.9187 92.4094 54.9203 87.8602 49.0574C83.3109 43.1946 81.0609 35.8714 81.5332 28.4656C82.0056 21.0599 85.1679 14.0819 90.4252 8.8446C95.6824 3.60726 102.672 0.471508 110.08 0.0272655C117.487 -0.416977 124.802 1.86091 130.647 6.4324C136.493 11.0039 140.467 17.5539 141.821 24.8501C143.175 32.1463 141.816 39.6859 138 46.0505L177.69 85.7505C182.31 82.9877 187.58 81.4995 192.962 81.4375C198.345 81.3755 203.648 82.742 208.33 85.3976C213.012 88.0532 216.907 91.9029 219.616 96.5544C222.326 101.206 223.753 106.492 223.753 111.875C223.753 117.258 222.326 122.545 219.616 127.197C216.907 131.848 213.012 135.698 208.33 138.353C203.648 141.009 198.345 142.375 192.962 142.313C187.58 142.251 182.31 140.763 177.69 138L138 177.7C141.808 184.071 143.155 191.614 141.79 198.91C140.424 206.205 136.44 212.75 130.585 217.313C124.731 221.875 117.412 224.141 110.004 223.683C102.596 223.226 95.6103 220.077 90.3621 214.828C85.1139 209.58 81.9647 202.595 81.5072 195.187C81.0497 187.779 83.3154 180.459 87.878 174.605C92.4405 168.751 98.9853 164.766 106.281 163.401C113.576 162.035 121.119 163.383 127.49 167.19L167.19 127.49C165.664 124.941 164.518 122.182 163.79 119.3H141.39C139.721 125.858 135.915 131.673 130.573 135.826C125.231 139.98 118.657 142.234 111.89 142.234C105.123 142.234 98.5494 139.98 93.2071 135.826C87.8648 131.673 84.0587 125.858 82.39 119.3H60C58.1878 126.495 53.8086 132.78 47.6863 136.971C41.5641 141.163 34.1211 142.972 26.7579 142.059C19.3947 141.146 12.6191 137.574 7.70605 132.014C2.79302 126.454 0.0813599 119.29 0.0813599 111.87C0.0813599 104.451 2.79302 97.2871 7.70605 91.7272C12.6191 86.1673 19.3947 82.5947 26.7579 81.6817C34.1211 80.7686 41.5641 82.5781 47.6863 86.7696C53.8086 90.9611 58.1878 97.2456 60 104.44H82.35ZM100.86 204.32C103.407 206.868 106.759 208.453 110.345 208.806C113.93 209.159 117.527 208.258 120.522 206.256C123.517 204.254 125.725 201.276 126.771 197.828C127.816 194.38 127.633 190.677 126.253 187.349C124.874 184.021 122.383 181.274 119.205 179.577C116.027 177.88 112.359 177.337 108.826 178.042C105.293 178.746 102.113 180.654 99.8291 183.44C97.5451 186.226 96.2979 189.718 96.3 193.32C96.2985 195.364 96.7006 197.388 97.4831 199.275C98.2656 201.163 99.4132 202.877 100.86 204.32ZM204.32 122.88C206.868 120.333 208.453 116.981 208.806 113.396C209.159 109.811 208.258 106.214 206.256 103.219C204.254 100.223 201.275 98.0151 197.827 96.97C194.38 95.9249 190.676 96.1077 187.348 97.4873C184.02 98.8669 181.274 101.358 179.577 104.536C177.879 107.714 177.337 111.382 178.041 114.915C178.746 118.448 180.653 121.627 183.439 123.911C186.226 126.195 189.717 127.443 193.32 127.44C195.364 127.443 197.388 127.042 199.275 126.259C201.163 125.476 202.878 124.328 204.32 122.88ZM122.88 19.4205C120.333 16.8729 116.981 15.2876 113.395 14.9347C109.81 14.5817 106.213 15.483 103.218 17.4849C100.223 19.4868 98.0146 22.4654 96.9696 25.9131C95.9245 29.3608 96.1073 33.0642 97.4869 36.3922C98.8665 39.7202 101.358 42.4668 104.535 44.1639C107.713 45.861 111.381 46.4036 114.914 45.6992C118.447 44.9949 121.627 43.0871 123.911 40.301C126.195 37.515 127.442 34.0231 127.44 30.4205C127.44 28.3772 127.038 26.3539 126.255 24.4664C125.473 22.5788 124.326 20.8642 122.88 19.4205ZM19.42 100.86C16.8725 103.408 15.2872 106.76 14.9342 110.345C14.5813 113.93 15.4826 117.527 17.4844 120.522C19.4863 123.518 22.4649 125.726 25.9127 126.771C29.3604 127.816 33.0638 127.633 36.3918 126.254C39.7198 124.874 42.4664 122.383 44.1635 119.205C45.8606 116.027 46.4032 112.359 45.6988 108.826C44.9944 105.293 43.0866 102.114 40.3006 99.8296C37.5145 97.5455 34.0227 96.2983 30.42 96.3005C26.2938 96.3018 22.337 97.9421 19.42 100.86ZM100.86 100.86C98.3125 103.408 96.7272 106.76 96.3742 110.345C96.0213 113.93 96.9226 117.527 98.9244 120.522C100.926 123.518 103.905 125.726 107.353 126.771C110.8 127.816 114.504 127.633 117.832 126.254C121.16 124.874 123.906 122.383 125.604 119.205C127.301 116.027 127.843 112.359 127.139 108.826C126.434 105.293 124.527 102.114 121.741 99.8296C118.955 97.5455 115.463 96.2983 111.86 96.3005C109.817 96.299 107.793 96.701 105.905 97.4835C104.018 98.2661 102.303 99.4136 100.86 100.86Z\" fill=\"#00AEEF\"/>\n",
       "    </g>\n",
       "    <defs>\n",
       "        <clipPath id=\"clip0_4338_178347\">\n",
       "            <rect width=\"566.93\" height=\"223.75\" fill=\"white\"/>\n",
       "        </clipPath>\n",
       "    </defs>\n",
       "  </svg>\n",
       "</div>\n",
       "\n",
       "        <table class=\"jp-RenderedHTMLCommon\" style=\"border-collapse: collapse;color: var(--jp-ui-font-color1);font-size: var(--jp-ui-font-size1);\">\n",
       "    <tr>\n",
       "        <td style=\"text-align: left\"><b>Python version:</b></td>\n",
       "        <td style=\"text-align: left\"><b>3.10.13</b></td>\n",
       "    </tr>\n",
       "    <tr>\n",
       "        <td style=\"text-align: left\"><b>Ray version:</b></td>\n",
       "        <td style=\"text-align: left\"><b>2.8.0</b></td>\n",
       "    </tr>\n",
       "    <tr>\n",
       "    <td style=\"text-align: left\"><b>Dashboard:</b></td>\n",
       "    <td style=\"text-align: left\"><b><a href=\"http://127.0.0.1:8265\" target=\"_blank\">http://127.0.0.1:8265</a></b></td>\n",
       "</tr>\n",
       "\n",
       "</table>\n",
       "\n",
       "    </div>\n",
       "</div>\n"
      ],
      "text/plain": [
       "RayContext(dashboard_url='127.0.0.1:8265', python_version='3.10.13', ray_version='2.8.0', ray_commit='105355bd253d6538ed34d331f6a4bdf0e38ace3a', protocol_version=None)"
      ]
     },
     "execution_count": 1,
     "metadata": {},
     "output_type": "execute_result"
    }
   ],
   "source": [
    "import ray\n",
    "GPU_UTILIZATION = 0.0\n",
    "ray.init(num_gpus=GPU_UTILIZATION)"
   ]
  },
  {
   "cell_type": "code",
   "execution_count": 2,
   "metadata": {},
   "outputs": [
    {
     "name": "stderr",
     "output_type": "stream",
     "text": [
      "2023-11-21 23:46:20,591\tINFO util.py:159 -- Missing packages: ['ipywidgets']. Run `pip install -U ipywidgets`, then restart the notebook server for rich notebook output.\n"
     ]
    }
   ],
   "source": [
    "import torch\n",
    "import torch.nn as nn\n",
    "\n",
    "from ray.rllib.models import ModelCatalog\n",
    "from ray.rllib.models.torch.torch_modelv2 import TorchModelV2\n",
    "\n",
    "class CustomTorchModel(TorchModelV2):\n",
    "    def __init__(self, obs_space, action_space, num_outputs, model_config, name):\n",
    "        super(CustomTorchModel, self).__init__(\n",
    "            obs_space, action_space, num_outputs, model_config, name\n",
    "        )\n",
    "        self.l1 = nn.Linear(obs_space.shape[0], 2)\n",
    "        self.l2 = nn.Linear(2, 1)\n",
    "    def forward(self, input_dict, state, seq_lens):\n",
    "        x = self.l1(input_dict[\"obs\"])\n",
    "        self.value_out = self.l2(x)\n",
    "        return x, state\n",
    "    def value_function(self):\n",
    "        return self.value_out\n",
    "\n",
    "ModelCatalog.register_custom_model(\"my_torch_model\", CustomTorchModel)"
   ]
  },
  {
   "cell_type": "code",
   "execution_count": 6,
   "id": "1e22672d",
   "metadata": {
    "scrolled": true
   },
   "outputs": [
    {
     "ename": "ValueError",
     "evalue": "Cannot use `custom_model` option with RLModule API. `custom_model` is part of the ModelV2 API and Policy API, which are not compatible with the RLModule API. You can either deactivate the RLModule API by setting `config.rl_module( _enable_rl_module_api=False)` and `config.training(_enable_learner_api=False)` ,or use the RLModule API and implement your custom model as an RLModule.",
     "output_type": "error",
     "traceback": [
      "\u001b[0;31m---------------------------------------------------------------------------\u001b[0m",
      "\u001b[0;31mValueError\u001b[0m                                Traceback (most recent call last)",
      "\u001b[1;32m/home/przemek/Desktop/ray_projects/notebooks/rl/cart_pole_custom_model.ipynb Cell 3\u001b[0m line \u001b[0;36m8\n\u001b[1;32m      <a href='vscode-notebook-cell:/home/przemek/Desktop/ray_projects/notebooks/rl/cart_pole_custom_model.ipynb#W1sZmlsZQ%3D%3D?line=4'>5</a>\u001b[0m config \u001b[39m=\u001b[39m config\u001b[39m.\u001b[39mrollouts(num_rollout_workers\u001b[39m=\u001b[39m\u001b[39m4\u001b[39m,create_env_on_local_worker\u001b[39m=\u001b[39m\u001b[39mTrue\u001b[39;00m)\n\u001b[1;32m      <a href='vscode-notebook-cell:/home/przemek/Desktop/ray_projects/notebooks/rl/cart_pole_custom_model.ipynb#W1sZmlsZQ%3D%3D?line=5'>6</a>\u001b[0m config \u001b[39m=\u001b[39m config\u001b[39m.\u001b[39mframework(\u001b[39m\"\u001b[39m\u001b[39mtorch\u001b[39m\u001b[39m\"\u001b[39m)\n\u001b[0;32m----> <a href='vscode-notebook-cell:/home/przemek/Desktop/ray_projects/notebooks/rl/cart_pole_custom_model.ipynb#W1sZmlsZQ%3D%3D?line=7'>8</a>\u001b[0m algo \u001b[39m=\u001b[39m config\u001b[39m.\u001b[39;49mbuild(env\u001b[39m=\u001b[39;49m\u001b[39m\"\u001b[39;49m\u001b[39mCartPole-v1\u001b[39;49m\u001b[39m\"\u001b[39;49m)  \n",
      "File \u001b[0;32m~/miniconda3/envs/ray_projects/lib/python3.10/site-packages/ray/rllib/algorithms/algorithm_config.py:1100\u001b[0m, in \u001b[0;36mAlgorithmConfig.build\u001b[0;34m(self, env, logger_creator, use_copy)\u001b[0m\n\u001b[1;32m   1097\u001b[0m \u001b[39mif\u001b[39;00m \u001b[39misinstance\u001b[39m(\u001b[39mself\u001b[39m\u001b[39m.\u001b[39malgo_class, \u001b[39mstr\u001b[39m):\n\u001b[1;32m   1098\u001b[0m     algo_class \u001b[39m=\u001b[39m get_trainable_cls(\u001b[39mself\u001b[39m\u001b[39m.\u001b[39malgo_class)\n\u001b[0;32m-> 1100\u001b[0m \u001b[39mreturn\u001b[39;00m algo_class(\n\u001b[1;32m   1101\u001b[0m     config\u001b[39m=\u001b[39;49m\u001b[39mself\u001b[39;49m \u001b[39mif\u001b[39;49;00m \u001b[39mnot\u001b[39;49;00m use_copy \u001b[39melse\u001b[39;49;00m copy\u001b[39m.\u001b[39;49mdeepcopy(\u001b[39mself\u001b[39;49m),\n\u001b[1;32m   1102\u001b[0m     logger_creator\u001b[39m=\u001b[39;49m\u001b[39mself\u001b[39;49m\u001b[39m.\u001b[39;49mlogger_creator,\n\u001b[1;32m   1103\u001b[0m )\n",
      "File \u001b[0;32m~/miniconda3/envs/ray_projects/lib/python3.10/site-packages/ray/rllib/algorithms/algorithm.py:437\u001b[0m, in \u001b[0;36mAlgorithm.__init__\u001b[0;34m(self, config, env, logger_creator, **kwargs)\u001b[0m\n\u001b[1;32m    434\u001b[0m     config\u001b[39m.\u001b[39menvironment(env)\n\u001b[1;32m    436\u001b[0m \u001b[39m# Validate and freeze our AlgorithmConfig object (no more changes possible).\u001b[39;00m\n\u001b[0;32m--> 437\u001b[0m config\u001b[39m.\u001b[39;49mvalidate()\n\u001b[1;32m    438\u001b[0m config\u001b[39m.\u001b[39mfreeze()\n\u001b[1;32m    440\u001b[0m \u001b[39m# Convert `env` provided in config into a concrete env creator callable, which\u001b[39;00m\n\u001b[1;32m    441\u001b[0m \u001b[39m# takes an EnvContext (config dict) as arg and returning an RLlib supported Env\u001b[39;00m\n\u001b[1;32m    442\u001b[0m \u001b[39m# type (e.g. a gym.Env).\u001b[39;00m\n",
      "File \u001b[0;32m~/miniconda3/envs/ray_projects/lib/python3.10/site-packages/ray/rllib/algorithms/ppo/ppo.py:315\u001b[0m, in \u001b[0;36mPPOConfig.validate\u001b[0;34m(self)\u001b[0m\n\u001b[1;32m    312\u001b[0m     \u001b[39mself\u001b[39m\u001b[39m.\u001b[39mtraining(_enable_learner_api\u001b[39m=\u001b[39m\u001b[39mFalse\u001b[39;00m)\n\u001b[1;32m    314\u001b[0m \u001b[39m# Call super's validation method.\u001b[39;00m\n\u001b[0;32m--> 315\u001b[0m \u001b[39msuper\u001b[39;49m()\u001b[39m.\u001b[39;49mvalidate()\n\u001b[1;32m    317\u001b[0m \u001b[39m# SGD minibatch size must be smaller than train_batch_size (b/c\u001b[39;00m\n\u001b[1;32m    318\u001b[0m \u001b[39m# we subsample a batch of `sgd_minibatch_size` from the train-batch for\u001b[39;00m\n\u001b[1;32m    319\u001b[0m \u001b[39m# each `num_sgd_iter`).\u001b[39;00m\n\u001b[1;32m    320\u001b[0m \u001b[39m# Note: Only check this if `train_batch_size` > 0 (DDPPO sets this\u001b[39;00m\n\u001b[1;32m    321\u001b[0m \u001b[39m# to -1 to auto-calculate the actual batch size later).\u001b[39;00m\n\u001b[1;32m    322\u001b[0m \u001b[39mif\u001b[39;00m \u001b[39mself\u001b[39m\u001b[39m.\u001b[39msgd_minibatch_size \u001b[39m>\u001b[39m \u001b[39mself\u001b[39m\u001b[39m.\u001b[39mtrain_batch_size:\n",
      "File \u001b[0;32m~/miniconda3/envs/ray_projects/lib/python3.10/site-packages/ray/rllib/algorithms/pg/pg.py:100\u001b[0m, in \u001b[0;36mPGConfig.validate\u001b[0;34m(self)\u001b[0m\n\u001b[1;32m     97\u001b[0m \u001b[39m@override\u001b[39m(AlgorithmConfig)\n\u001b[1;32m     98\u001b[0m \u001b[39mdef\u001b[39;00m \u001b[39mvalidate\u001b[39m(\u001b[39mself\u001b[39m) \u001b[39m-\u001b[39m\u001b[39m>\u001b[39m \u001b[39mNone\u001b[39;00m:\n\u001b[1;32m     99\u001b[0m     \u001b[39m# Call super's validation method.\u001b[39;00m\n\u001b[0;32m--> 100\u001b[0m     \u001b[39msuper\u001b[39;49m()\u001b[39m.\u001b[39;49mvalidate()\n\u001b[1;32m    102\u001b[0m     \u001b[39m# Synchronous sampling, on-policy PG algo -> Check mismatches between\u001b[39;00m\n\u001b[1;32m    103\u001b[0m     \u001b[39m# `rollout_fragment_length` and `train_batch_size` to avoid user confusion.\u001b[39;00m\n\u001b[1;32m    104\u001b[0m     \u001b[39mself\u001b[39m\u001b[39m.\u001b[39mvalidate_train_batch_size_vs_rollout_fragment_length()\n",
      "File \u001b[0;32m~/miniconda3/envs/ray_projects/lib/python3.10/site-packages/ray/rllib/algorithms/algorithm_config.py:1035\u001b[0m, in \u001b[0;36mAlgorithmConfig.validate\u001b[0;34m(self)\u001b[0m\n\u001b[1;32m   1022\u001b[0m not_compatible_w_rlm_msg \u001b[39m=\u001b[39m (\n\u001b[1;32m   1023\u001b[0m     \u001b[39m\"\u001b[39m\u001b[39mCannot use `\u001b[39m\u001b[39m{}\u001b[39;00m\u001b[39m` option with RLModule API. `\u001b[39m\u001b[39m{\u001b[39m\u001b[39m\"\u001b[39m\n\u001b[1;32m   1024\u001b[0m     \u001b[39m\"\u001b[39m\u001b[39m}` is part of the ModelV2 API and Policy API,\u001b[39m\u001b[39m\"\u001b[39m\n\u001b[0;32m   (...)\u001b[0m\n\u001b[1;32m   1031\u001b[0m     \u001b[39m\"\u001b[39m\u001b[39mcustom model as an RLModule.\u001b[39m\u001b[39m\"\u001b[39m\n\u001b[1;32m   1032\u001b[0m )\n\u001b[1;32m   1034\u001b[0m \u001b[39mif\u001b[39;00m \u001b[39mself\u001b[39m\u001b[39m.\u001b[39mmodel[\u001b[39m\"\u001b[39m\u001b[39mcustom_model\u001b[39m\u001b[39m\"\u001b[39m] \u001b[39mis\u001b[39;00m \u001b[39mnot\u001b[39;00m \u001b[39mNone\u001b[39;00m:\n\u001b[0;32m-> 1035\u001b[0m     \u001b[39mraise\u001b[39;00m \u001b[39mValueError\u001b[39;00m(\n\u001b[1;32m   1036\u001b[0m         not_compatible_w_rlm_msg\u001b[39m.\u001b[39mformat(\u001b[39m\"\u001b[39m\u001b[39mcustom_model\u001b[39m\u001b[39m\"\u001b[39m, \u001b[39m\"\u001b[39m\u001b[39mcustom_model\u001b[39m\u001b[39m\"\u001b[39m)\n\u001b[1;32m   1037\u001b[0m     )\n\u001b[1;32m   1039\u001b[0m \u001b[39mif\u001b[39;00m \u001b[39mself\u001b[39m\u001b[39m.\u001b[39mmodel[\u001b[39m\"\u001b[39m\u001b[39mcustom_model_config\u001b[39m\u001b[39m\"\u001b[39m] \u001b[39m!=\u001b[39m {}:\n\u001b[1;32m   1040\u001b[0m     \u001b[39mraise\u001b[39;00m \u001b[39mValueError\u001b[39;00m(\n\u001b[1;32m   1041\u001b[0m         not_compatible_w_rlm_msg\u001b[39m.\u001b[39mformat(\n\u001b[1;32m   1042\u001b[0m             \u001b[39m\"\u001b[39m\u001b[39mcustom_model_config\u001b[39m\u001b[39m\"\u001b[39m, \u001b[39m\"\u001b[39m\u001b[39mcustom_model_config\u001b[39m\u001b[39m\"\u001b[39m\n\u001b[1;32m   1043\u001b[0m         )\n\u001b[1;32m   1044\u001b[0m     )\n",
      "\u001b[0;31mValueError\u001b[0m: Cannot use `custom_model` option with RLModule API. `custom_model` is part of the ModelV2 API and Policy API, which are not compatible with the RLModule API. You can either deactivate the RLModule API by setting `config.rl_module( _enable_rl_module_api=False)` and `config.training(_enable_learner_api=False)` ,or use the RLModule API and implement your custom model as an RLModule."
     ]
    }
   ],
   "source": [
    "from ray.rllib.algorithms.ppo import PPOConfig\n",
    "\n",
    "config = PPOConfig().training(model = {\"custom_model\":\"my_torch_model\"}, gamma=0.9, lr=0.0001, train_batch_size=512, sgd_minibatch_size=256)\n",
    "config = config.resources(num_gpus=GPU_UTILIZATION, num_learner_workers=1, num_gpus_per_worker=0, num_gpus_per_learner_worker=GPU_UTILIZATION)\n",
    "config = config.rollouts(num_rollout_workers=4,create_env_on_local_worker=True)\n",
    "config = config.framework(\"torch\")\n",
    "\n",
    "algo = config.build(env=\"CartPole-v1\")  "
   ]
  },
  {
   "cell_type": "code",
   "execution_count": 6,
   "id": "750f3647",
   "metadata": {},
   "outputs": [
    {
     "name": "stdout",
     "output_type": "stream",
     "text": [
      "23.198487758636475\n"
     ]
    }
   ],
   "source": [
    "from time import time \n",
    "init_eval = algo.evaluate()\n",
    "\n",
    "t1 = time()\n",
    "for i in range(32):\n",
    "    print(i,end='\\r')\n",
    "    algo.train()\n",
    "\n",
    "print(time() - t1)\n",
    "post_eval = algo.evaluate()"
   ]
  },
  {
   "cell_type": "code",
   "execution_count": 7,
   "id": "35b9b23c",
   "metadata": {},
   "outputs": [
    {
     "name": "stdout",
     "output_type": "stream",
     "text": [
      "init:  21.593220338983052\n",
      "post:  208.66666666666666\n"
     ]
    }
   ],
   "source": [
    "print('Mean reward per episode')\n",
    "print('Before training: ',init_eval['evaluation']['episode_reward_mean'])\n",
    "print('After training: ',post_eval['evaluation']['episode_reward_mean'])"
   ]
  },
  {
   "cell_type": "code",
   "execution_count": 1,
   "id": "9f843bac",
   "metadata": {},
   "outputs": [],
   "source": [
    "import gymnasium as gym \n",
    "import matplotlib.pyplot as plt\n",
    "from IPython.display import clear_output"
   ]
  },
  {
   "cell_type": "code",
   "execution_count": 3,
   "id": "76ef079d",
   "metadata": {},
   "outputs": [],
   "source": [
    "env = gym.make('CartPole-v1', render_mode=\"rgb_array\")\n",
    "model = algo.get_policy().model"
   ]
  },
  {
   "cell_type": "code",
   "execution_count": 14,
   "metadata": {},
   "outputs": [
    {
     "data": {
      "text/plain": [
       "4"
      ]
     },
     "execution_count": 14,
     "metadata": {},
     "output_type": "execute_result"
    }
   ],
   "source": [
    "env.observation_space.shape[0]"
   ]
  },
  {
   "cell_type": "code",
   "execution_count": 55,
   "id": "f49b7d37",
   "metadata": {},
   "outputs": [
    {
     "data": {
      "image/png": "[encoded data removed]",
      "text/plain": [
       "<Figure size 640x480 with 1 Axes>"
      ]
     },
     "metadata": {},
     "output_type": "display_data"
    },
    {
     "name": "stdout",
     "output_type": "stream",
     "text": [
      "Episode finished after 140 steps\n"
     ]
    }
   ],
   "source": [
    "initial_state = env.reset()\n",
    "\n",
    "for step in range(num_steps):\n",
    "    with torch.no_grad():\n",
    "        action = model({'obs': torch.Tensor(next_state.reshape([1,4]))})['action_dist_inputs'].argmax().item()\n",
    "\n",
    "    next_state, reward, done = env.step(action)[:3]\n",
    "\n",
    "    clear_output(wait=True)\n",
    "    plt.imshow(env.render())\n",
    "    plt.show()\n",
    "\n",
    "    print(step, end='\\r')\n",
    "    \n",
    "    if done:\n",
    "        print(f\"Episode finished after {step+1} steps\")\n",
    "        break"
   ]
  }
 ],
 "metadata": {
  "kernelspec": {
   "display_name": "ray_projects",
   "language": "python",
   "name": "python3"
  },
  "language_info": {
   "codemirror_mode": {
    "name": "ipython",
    "version": 3
   },
   "file_extension": ".py",
   "mimetype": "text/x-python",
   "name": "python",
   "nbconvert_exporter": "python",
   "pygments_lexer": "ipython3",
   "version": "3.10.13"
  }
 },
 "nbformat": 4,
 "nbformat_minor": 5
}
