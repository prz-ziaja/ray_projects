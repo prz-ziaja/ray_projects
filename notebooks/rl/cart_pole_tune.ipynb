{
 "cells": [
  {
   "cell_type": "code",
   "execution_count": 1,
   "id": "e50db880",
   "metadata": {
    "scrolled": true
   },
   "outputs": [
    {
     "name": "stderr",
     "output_type": "stream",
     "text": [
      "2023-11-19 21:00:11,744\tINFO util.py:159 -- Missing packages: ['ipywidgets']. Run `pip install -U ipywidgets`, then restart the notebook server for rich notebook output.\n",
      "2023-11-19 21:00:13,586\tINFO worker.py:1664 -- Started a local Ray instance. View the dashboard at \u001b[1m\u001b[32m127.0.0.1:8266 \u001b[39m\u001b[22m\n"
     ]
    },
    {
     "data": {
      "text/html": [
       "<div class=\"lm-Widget p-Widget lm-Panel p-Panel jp-Cell-outputWrapper\">\n",
       "    <div style=\"margin-left: 50px;display: flex;flex-direction: row;align-items: center\">\n",
       "        <div class=\"jp-RenderedHTMLCommon\" style=\"display: flex; flex-direction: row;\">\n",
       "  <svg viewBox=\"0 0 567 224\" fill=\"none\" xmlns=\"http://www.w3.org/2000/svg\" style=\"height: 3em;\">\n",
       "    <g clip-path=\"url(#clip0_4338_178347)\">\n",
       "        <path d=\"M341.29 165.561H355.29L330.13 129.051C345.63 123.991 354.21 112.051 354.21 94.2307C354.21 71.3707 338.72 58.1807 311.88 58.1807H271V165.561H283.27V131.661H311.8C314.25 131.661 316.71 131.501 319.01 131.351L341.25 165.561H341.29ZM283.29 119.851V70.0007H311.82C331.3 70.0007 342.34 78.2907 342.34 94.5507C342.34 111.271 331.34 119.861 311.82 119.861L283.29 119.851ZM451.4 138.411L463.4 165.561H476.74L428.74 58.1807H416L367.83 165.561H380.83L392.83 138.411H451.4ZM446.19 126.601H398L422 72.1407L446.24 126.601H446.19ZM526.11 128.741L566.91 58.1807H554.35L519.99 114.181L485.17 58.1807H472.44L514.01 129.181V165.541H526.13V128.741H526.11Z\" fill=\"var(--jp-ui-font-color0)\"/>\n",
       "        <path d=\"M82.35 104.44C84.0187 97.8827 87.8248 92.0678 93.1671 87.9146C98.5094 83.7614 105.083 81.5067 111.85 81.5067C118.617 81.5067 125.191 83.7614 130.533 87.9146C135.875 92.0678 139.681 97.8827 141.35 104.44H163.75C164.476 101.562 165.622 98.8057 167.15 96.2605L127.45 56.5605C121.071 60.3522 113.526 61.6823 106.235 60.3005C98.9443 58.9187 92.4094 54.9203 87.8602 49.0574C83.3109 43.1946 81.0609 35.8714 81.5332 28.4656C82.0056 21.0599 85.1679 14.0819 90.4252 8.8446C95.6824 3.60726 102.672 0.471508 110.08 0.0272655C117.487 -0.416977 124.802 1.86091 130.647 6.4324C136.493 11.0039 140.467 17.5539 141.821 24.8501C143.175 32.1463 141.816 39.6859 138 46.0505L177.69 85.7505C182.31 82.9877 187.58 81.4995 192.962 81.4375C198.345 81.3755 203.648 82.742 208.33 85.3976C213.012 88.0532 216.907 91.9029 219.616 96.5544C222.326 101.206 223.753 106.492 223.753 111.875C223.753 117.258 222.326 122.545 219.616 127.197C216.907 131.848 213.012 135.698 208.33 138.353C203.648 141.009 198.345 142.375 192.962 142.313C187.58 142.251 182.31 140.763 177.69 138L138 177.7C141.808 184.071 143.155 191.614 141.79 198.91C140.424 206.205 136.44 212.75 130.585 217.313C124.731 221.875 117.412 224.141 110.004 223.683C102.596 223.226 95.6103 220.077 90.3621 214.828C85.1139 209.58 81.9647 202.595 81.5072 195.187C81.0497 187.779 83.3154 180.459 87.878 174.605C92.4405 168.751 98.9853 164.766 106.281 163.401C113.576 162.035 121.119 163.383 127.49 167.19L167.19 127.49C165.664 124.941 164.518 122.182 163.79 119.3H141.39C139.721 125.858 135.915 131.673 130.573 135.826C125.231 139.98 118.657 142.234 111.89 142.234C105.123 142.234 98.5494 139.98 93.2071 135.826C87.8648 131.673 84.0587 125.858 82.39 119.3H60C58.1878 126.495 53.8086 132.78 47.6863 136.971C41.5641 141.163 34.1211 142.972 26.7579 142.059C19.3947 141.146 12.6191 137.574 7.70605 132.014C2.79302 126.454 0.0813599 119.29 0.0813599 111.87C0.0813599 104.451 2.79302 97.2871 7.70605 91.7272C12.6191 86.1673 19.3947 82.5947 26.7579 81.6817C34.1211 80.7686 41.5641 82.5781 47.6863 86.7696C53.8086 90.9611 58.1878 97.2456 60 104.44H82.35ZM100.86 204.32C103.407 206.868 106.759 208.453 110.345 208.806C113.93 209.159 117.527 208.258 120.522 206.256C123.517 204.254 125.725 201.276 126.771 197.828C127.816 194.38 127.633 190.677 126.253 187.349C124.874 184.021 122.383 181.274 119.205 179.577C116.027 177.88 112.359 177.337 108.826 178.042C105.293 178.746 102.113 180.654 99.8291 183.44C97.5451 186.226 96.2979 189.718 96.3 193.32C96.2985 195.364 96.7006 197.388 97.4831 199.275C98.2656 201.163 99.4132 202.877 100.86 204.32ZM204.32 122.88C206.868 120.333 208.453 116.981 208.806 113.396C209.159 109.811 208.258 106.214 206.256 103.219C204.254 100.223 201.275 98.0151 197.827 96.97C194.38 95.9249 190.676 96.1077 187.348 97.4873C184.02 98.8669 181.274 101.358 179.577 104.536C177.879 107.714 177.337 111.382 178.041 114.915C178.746 118.448 180.653 121.627 183.439 123.911C186.226 126.195 189.717 127.443 193.32 127.44C195.364 127.443 197.388 127.042 199.275 126.259C201.163 125.476 202.878 124.328 204.32 122.88ZM122.88 19.4205C120.333 16.8729 116.981 15.2876 113.395 14.9347C109.81 14.5817 106.213 15.483 103.218 17.4849C100.223 19.4868 98.0146 22.4654 96.9696 25.9131C95.9245 29.3608 96.1073 33.0642 97.4869 36.3922C98.8665 39.7202 101.358 42.4668 104.535 44.1639C107.713 45.861 111.381 46.4036 114.914 45.6992C118.447 44.9949 121.627 43.0871 123.911 40.301C126.195 37.515 127.442 34.0231 127.44 30.4205C127.44 28.3772 127.038 26.3539 126.255 24.4664C125.473 22.5788 124.326 20.8642 122.88 19.4205ZM19.42 100.86C16.8725 103.408 15.2872 106.76 14.9342 110.345C14.5813 113.93 15.4826 117.527 17.4844 120.522C19.4863 123.518 22.4649 125.726 25.9127 126.771C29.3604 127.816 33.0638 127.633 36.3918 126.254C39.7198 124.874 42.4664 122.383 44.1635 119.205C45.8606 116.027 46.4032 112.359 45.6988 108.826C44.9944 105.293 43.0866 102.114 40.3006 99.8296C37.5145 97.5455 34.0227 96.2983 30.42 96.3005C26.2938 96.3018 22.337 97.9421 19.42 100.86ZM100.86 100.86C98.3125 103.408 96.7272 106.76 96.3742 110.345C96.0213 113.93 96.9226 117.527 98.9244 120.522C100.926 123.518 103.905 125.726 107.353 126.771C110.8 127.816 114.504 127.633 117.832 126.254C121.16 124.874 123.906 122.383 125.604 119.205C127.301 116.027 127.843 112.359 127.139 108.826C126.434 105.293 124.527 102.114 121.741 99.8296C118.955 97.5455 115.463 96.2983 111.86 96.3005C109.817 96.299 107.793 96.701 105.905 97.4835C104.018 98.2661 102.303 99.4136 100.86 100.86Z\" fill=\"#00AEEF\"/>\n",
       "    </g>\n",
       "    <defs>\n",
       "        <clipPath id=\"clip0_4338_178347\">\n",
       "            <rect width=\"566.93\" height=\"223.75\" fill=\"white\"/>\n",
       "        </clipPath>\n",
       "    </defs>\n",
       "  </svg>\n",
       "</div>\n",
       "\n",
       "        <table class=\"jp-RenderedHTMLCommon\" style=\"border-collapse: collapse;color: var(--jp-ui-font-color1);font-size: var(--jp-ui-font-size1);\">\n",
       "    <tr>\n",
       "        <td style=\"text-align: left\"><b>Python version:</b></td>\n",
       "        <td style=\"text-align: left\"><b>3.10.13</b></td>\n",
       "    </tr>\n",
       "    <tr>\n",
       "        <td style=\"text-align: left\"><b>Ray version:</b></td>\n",
       "        <td style=\"text-align: left\"><b>2.8.0</b></td>\n",
       "    </tr>\n",
       "    <tr>\n",
       "    <td style=\"text-align: left\"><b>Dashboard:</b></td>\n",
       "    <td style=\"text-align: left\"><b><a href=\"http://127.0.0.1:8266\" target=\"_blank\">http://127.0.0.1:8266</a></b></td>\n",
       "</tr>\n",
       "\n",
       "</table>\n",
       "\n",
       "    </div>\n",
       "</div>\n"
      ],
      "text/plain": [
       "RayContext(dashboard_url='127.0.0.1:8266', python_version='3.10.13', ray_version='2.8.0', ray_commit='105355bd253d6538ed34d331f6a4bdf0e38ace3a', protocol_version=None)"
      ]
     },
     "execution_count": 1,
     "metadata": {},
     "output_type": "execute_result"
    }
   ],
   "source": [
    "import ray\n",
    "GPU_UTILIZATION = 0.0\n",
    "ray.init(num_gpus=GPU_UTILIZATION)"
   ]
  },
  {
   "cell_type": "code",
   "execution_count": 3,
   "id": "1e22672d",
   "metadata": {
    "scrolled": true
   },
   "outputs": [],
   "source": [
    "from ray import train, tune\n",
    "from ray.rllib.algorithms.ppo import PPO\n",
    "from ray.tune.schedulers import PopulationBasedTraining\n",
    "\n",
    "GPU_UTILIZATION = 0.0\n",
    "\n",
    "pbt = PopulationBasedTraining(\n",
    "    time_attr=\"time_total_s\",\n",
    "    perturbation_interval=120,\n",
    "    resample_probability=0.25,\n",
    "    # Specifies the mutations of these hyperparams\n",
    "    hyperparam_mutations={\n",
    "        \"lambda\": lambda: random.uniform(0.9, 1.0),\n",
    "        \"clip_param\": lambda: random.uniform(0.01, 0.5),\n",
    "        \"lr\": [1e-3, 5e-4, 1e-4, 5e-5, 1e-5],\n",
    "        \"num_sgd_iter\": lambda: random.randint(1, 2),\n",
    "        \"sgd_minibatch_size\": lambda: random.randint(128, 16384),\n",
    "        \"train_batch_size\": lambda: random.randint(2000, 160000),\n",
    "    }\n",
    ")"
   ]
  },
  {
   "cell_type": "code",
   "execution_count": 4,
   "metadata": {},
   "outputs": [
    {
     "data": {
      "text/html": [
       "<div class=\"tuneStatus\">\n",
       "  <div style=\"display: flex;flex-direction: row\">\n",
       "    <div style=\"display: flex;flex-direction: column;\">\n",
       "      <h3>Tune Status</h3>\n",
       "      <table>\n",
       "<tbody>\n",
       "<tr><td>Current time:</td><td>2023-11-19 21:46:13</td></tr>\n",
       "<tr><td>Running for: </td><td>00:33:34.65        </td></tr>\n",
       "<tr><td>Memory:      </td><td>13.6/15.5 GiB      </td></tr>\n",
       "</tbody>\n",
       "</table>\n",
       "    </div>\n",
       "    <div class=\"vDivider\"></div>\n",
       "    <div class=\"systemInfo\">\n",
       "      <h3>System Info</h3>\n",
       "      PopulationBasedTraining: 2 checkpoints, 0 perturbs<br>Logical resource usage: 9.0/16 CPUs, 0/1 GPUs (0.0/1.0 accelerator_type:G)\n",
       "    </div>\n",
       "    \n",
       "  </div>\n",
       "  <div class=\"hDivider\"></div>\n",
       "  <div class=\"trialStatus\">\n",
       "    <h3>Trial Status</h3>\n",
       "    <table>\n",
       "<thead>\n",
       "<tr><th>Trial name                 </th><th>status  </th><th>loc                </th><th style=\"text-align: right;\">  num_sgd_iter</th><th style=\"text-align: right;\">  sgd_minibatch_size</th><th style=\"text-align: right;\">  train_batch_size</th><th style=\"text-align: right;\">  iter</th><th style=\"text-align: right;\">  total time (s)</th><th style=\"text-align: right;\">    ts</th><th style=\"text-align: right;\">  reward</th><th style=\"text-align: right;\">  episode_reward_max</th><th style=\"text-align: right;\">  episode_reward_min</th><th style=\"text-align: right;\">  episode_len_mean</th></tr>\n",
       "</thead>\n",
       "<tbody>\n",
       "<tr><td>PPO_CartPole-v1_fcb88_00005</td><td>RUNNING </td><td>192.168.0.80:200347</td><td style=\"text-align: right;\">             2</td><td style=\"text-align: right;\">                 128</td><td style=\"text-align: right;\">              1024</td><td style=\"text-align: right;\">   318</td><td style=\"text-align: right;\">         133.608</td><td style=\"text-align: right;\">325632</td><td style=\"text-align: right;\">  283.17</td><td style=\"text-align: right;\">                 500</td><td style=\"text-align: right;\">                 102</td><td style=\"text-align: right;\">            283.17</td></tr>\n",
       "<tr><td>PPO_CartPole-v1_fcb88_00000</td><td>PAUSED  </td><td>192.168.0.80:194693</td><td style=\"text-align: right;\">             2</td><td style=\"text-align: right;\">                 128</td><td style=\"text-align: right;\">              1024</td><td style=\"text-align: right;\">   573</td><td style=\"text-align: right;\">         240.42 </td><td style=\"text-align: right;\">586752</td><td style=\"text-align: right;\">  304.14</td><td style=\"text-align: right;\">                 442</td><td style=\"text-align: right;\">                 106</td><td style=\"text-align: right;\">            304.14</td></tr>\n",
       "<tr><td>PPO_CartPole-v1_fcb88_00001</td><td>PAUSED  </td><td>192.168.0.80:197512</td><td style=\"text-align: right;\">             2</td><td style=\"text-align: right;\">                 128</td><td style=\"text-align: right;\">              1024</td><td style=\"text-align: right;\">   576</td><td style=\"text-align: right;\">         240.784</td><td style=\"text-align: right;\">589824</td><td style=\"text-align: right;\">  176.79</td><td style=\"text-align: right;\">                 433</td><td style=\"text-align: right;\">                  73</td><td style=\"text-align: right;\">            176.79</td></tr>\n",
       "<tr><td>PPO_CartPole-v1_fcb88_00002</td><td>PAUSED  </td><td>192.168.0.80:180842</td><td style=\"text-align: right;\">             2</td><td style=\"text-align: right;\">                  64</td><td style=\"text-align: right;\">               540</td><td style=\"text-align: right;\">   903</td><td style=\"text-align: right;\">         240.357</td><td style=\"text-align: right;\">487620</td><td style=\"text-align: right;\">  190.11</td><td style=\"text-align: right;\">                 500</td><td style=\"text-align: right;\">                 113</td><td style=\"text-align: right;\">            190.11</td></tr>\n",
       "<tr><td>PPO_CartPole-v1_fcb88_00003</td><td>PAUSED  </td><td>192.168.0.80:191966</td><td style=\"text-align: right;\">             2</td><td style=\"text-align: right;\">                 128</td><td style=\"text-align: right;\">              1024</td><td style=\"text-align: right;\">   575</td><td style=\"text-align: right;\">         240.431</td><td style=\"text-align: right;\">588800</td><td style=\"text-align: right;\">  204.43</td><td style=\"text-align: right;\">                 500</td><td style=\"text-align: right;\">                  32</td><td style=\"text-align: right;\">            204.43</td></tr>\n",
       "<tr><td>PPO_CartPole-v1_fcb88_00004</td><td>PAUSED  </td><td>192.168.0.80:189149</td><td style=\"text-align: right;\">             2</td><td style=\"text-align: right;\">                 256</td><td style=\"text-align: right;\">              1024</td><td style=\"text-align: right;\">   622</td><td style=\"text-align: right;\">         240.492</td><td style=\"text-align: right;\">636928</td><td style=\"text-align: right;\">  368.1 </td><td style=\"text-align: right;\">                 500</td><td style=\"text-align: right;\">                 157</td><td style=\"text-align: right;\">            368.1 </td></tr>\n",
       "<tr><td>PPO_CartPole-v1_fcb88_00006</td><td>PAUSED  </td><td>192.168.0.80:186290</td><td style=\"text-align: right;\">             2</td><td style=\"text-align: right;\">                  64</td><td style=\"text-align: right;\">               540</td><td style=\"text-align: right;\">   903</td><td style=\"text-align: right;\">         240.25 </td><td style=\"text-align: right;\">487620</td><td style=\"text-align: right;\">  192.86</td><td style=\"text-align: right;\">                 368</td><td style=\"text-align: right;\">                 124</td><td style=\"text-align: right;\">            192.86</td></tr>\n",
       "<tr><td>PPO_CartPole-v1_fcb88_00007</td><td>PENDING </td><td>192.168.0.80:183555</td><td style=\"text-align: right;\">             2</td><td style=\"text-align: right;\">                  64</td><td style=\"text-align: right;\">               540</td><td style=\"text-align: right;\">   908</td><td style=\"text-align: right;\">         240.191</td><td style=\"text-align: right;\">490320</td><td style=\"text-align: right;\">  200.3 </td><td style=\"text-align: right;\">                 500</td><td style=\"text-align: right;\">                 105</td><td style=\"text-align: right;\">            200.3 </td></tr>\n",
       "</tbody>\n",
       "</table>\n",
       "  </div>\n",
       "</div>\n",
       "<style>\n",
       ".tuneStatus {\n",
       "  color: var(--jp-ui-font-color1);\n",
       "}\n",
       ".tuneStatus .systemInfo {\n",
       "  display: flex;\n",
       "  flex-direction: column;\n",
       "}\n",
       ".tuneStatus td {\n",
       "  white-space: nowrap;\n",
       "}\n",
       ".tuneStatus .trialStatus {\n",
       "  display: flex;\n",
       "  flex-direction: column;\n",
       "}\n",
       ".tuneStatus h3 {\n",
       "  font-weight: bold;\n",
       "}\n",
       ".tuneStatus .hDivider {\n",
       "  border-bottom-width: var(--jp-border-width);\n",
       "  border-bottom-color: var(--jp-border-color0);\n",
       "  border-bottom-style: solid;\n",
       "}\n",
       ".tuneStatus .vDivider {\n",
       "  border-left-width: var(--jp-border-width);\n",
       "  border-left-color: var(--jp-border-color0);\n",
       "  border-left-style: solid;\n",
       "  margin: 0.5em 1em 0.5em 1em;\n",
       "}\n",
       "</style>\n"
      ],
      "text/plain": [
       "<IPython.core.display.HTML object>"
      ]
     },
     "metadata": {},
     "output_type": "display_data"
    },
    {
     "name": "stderr",
     "output_type": "stream",
     "text": [
      "\u001b[36m(pid=158376)\u001b[0m 2023-11-19 21:12:42,032\tWARNING __init__.py:10 -- PG has/have been moved to `rllib_contrib` and will no longer be maintained by the RLlib team. You can still use it/them normally inside RLlib util Ray 2.8, but from Ray 2.9 on, all `rllib_contrib` algorithms will no longer be part of the core repo, and will therefore have to be installed separately with pinned dependencies for e.g. ray[rllib] and other packages! See https://github.com/ray-project/ray/tree/master/rllib_contrib#rllib-contrib for more information on the RLlib contrib effort.\n",
      "\u001b[36m(PPO pid=158376)\u001b[0m No CUDA runtime is found, using CUDA_HOME='/home/przemek/miniconda3/envs/ray_projects'\n",
      "\u001b[36m(PPO pid=158376)\u001b[0m /home/przemek/miniconda3/envs/ray_projects/lib/python3.10/site-packages/onnxruntime/capi/onnxruntime_validation.py:114: UserWarning: WARNING: failed to get cudart_version from onnxruntime build info.\n",
      "\u001b[36m(PPO pid=158376)\u001b[0m   warnings.warn(\"WARNING: failed to get cudart_version from onnxruntime build info.\")\n",
      "\u001b[36m(PPO pid=158376)\u001b[0m Install gputil for GPU system monitoring.\n",
      "\u001b[36m(PPO pid=158376)\u001b[0m Checkpoint successfully created at: Checkpoint(filesystem=local, path=/home/przemek/ray_results/pbt_cart_pole/PPO_CartPole-v1_fcb88_00000_0_num_sgd_iter=2,sgd_minibatch_size=128,train_batch_size=1024_2023-11-19_21-12-38/checkpoint_000000)\n",
      "\u001b[36m(RolloutWorker pid=158479)\u001b[0m 2023-11-19 21:12:45,839\tWARNING __init__.py:10 -- PG has/have been moved to `rllib_contrib` and will no longer be maintained by the RLlib team. You can still use it/them normally inside RLlib util Ray 2.8, but from Ray 2.9 on, all `rllib_contrib` algorithms will no longer be part of the core repo, and will therefore have to be installed separately with pinned dependencies for e.g. ray[rllib] and other packages! See https://github.com/ray-project/ray/tree/master/rllib_contrib#rllib-contrib for more information on the RLlib contrib effort.\u001b[32m [repeated 8x across cluster]\u001b[0m\n",
      "\u001b[36m(RolloutWorker pid=161289)\u001b[0m 2023-11-19 21:14:57,284\tWARNING __init__.py:10 -- PG has/have been moved to `rllib_contrib` and will no longer be maintained by the RLlib team. You can still use it/them normally inside RLlib util Ray 2.8, but from Ray 2.9 on, all `rllib_contrib` algorithms will no longer be part of the core repo, and will therefore have to be installed separately with pinned dependencies for e.g. ray[rllib] and other packages! See https://github.com/ray-project/ray/tree/master/rllib_contrib#rllib-contrib for more information on the RLlib contrib effort.\u001b[32m [repeated 2x across cluster]\u001b[0m\n",
      "\u001b[36m(PPO pid=161205)\u001b[0m No CUDA runtime is found, using CUDA_HOME='/home/przemek/miniconda3/envs/ray_projects'\n",
      "\u001b[36m(PPO pid=161205)\u001b[0m /home/przemek/miniconda3/envs/ray_projects/lib/python3.10/site-packages/onnxruntime/capi/onnxruntime_validation.py:114: UserWarning: WARNING: failed to get cudart_version from onnxruntime build info.\n",
      "\u001b[36m(PPO pid=161205)\u001b[0m   warnings.warn(\"WARNING: failed to get cudart_version from onnxruntime build info.\")\n",
      "\u001b[36m(PPO pid=161205)\u001b[0m Install gputil for GPU system monitoring.\n",
      "\u001b[36m(PPO pid=161205)\u001b[0m Checkpoint successfully created at: Checkpoint(filesystem=local, path=/home/przemek/ray_results/pbt_cart_pole/PPO_CartPole-v1_fcb88_00001_1_num_sgd_iter=2,sgd_minibatch_size=128,train_batch_size=1024_2023-11-19_21-12-38/checkpoint_000000)\n",
      "\u001b[36m(RolloutWorker pid=161291)\u001b[0m 2023-11-19 21:14:57,760\tWARNING __init__.py:10 -- PG has/have been moved to `rllib_contrib` and will no longer be maintained by the RLlib team. You can still use it/them normally inside RLlib util Ray 2.8, but from Ray 2.9 on, all `rllib_contrib` algorithms will no longer be part of the core repo, and will therefore have to be installed separately with pinned dependencies for e.g. ray[rllib] and other packages! See https://github.com/ray-project/ray/tree/master/rllib_contrib#rllib-contrib for more information on the RLlib contrib effort.\u001b[32m [repeated 7x across cluster]\u001b[0m\n",
      "\u001b[36m(RolloutWorker pid=164030)\u001b[0m 2023-11-19 21:17:09,547\tWARNING __init__.py:10 -- PG has/have been moved to `rllib_contrib` and will no longer be maintained by the RLlib team. You can still use it/them normally inside RLlib util Ray 2.8, but from Ray 2.9 on, all `rllib_contrib` algorithms will no longer be part of the core repo, and will therefore have to be installed separately with pinned dependencies for e.g. ray[rllib] and other packages! See https://github.com/ray-project/ray/tree/master/rllib_contrib#rllib-contrib for more information on the RLlib contrib effort.\u001b[32m [repeated 2x across cluster]\u001b[0m\n",
      "\u001b[36m(PPO pid=163912)\u001b[0m No CUDA runtime is found, using CUDA_HOME='/home/przemek/miniconda3/envs/ray_projects'\n",
      "\u001b[36m(PPO pid=163912)\u001b[0m /home/przemek/miniconda3/envs/ray_projects/lib/python3.10/site-packages/onnxruntime/capi/onnxruntime_validation.py:114: UserWarning: WARNING: failed to get cudart_version from onnxruntime build info.\n",
      "\u001b[36m(PPO pid=163912)\u001b[0m   warnings.warn(\"WARNING: failed to get cudart_version from onnxruntime build info.\")\n",
      "\u001b[36m(PPO pid=163912)\u001b[0m Install gputil for GPU system monitoring.\n",
      "\u001b[36m(PPO pid=163912)\u001b[0m Checkpoint successfully created at: Checkpoint(filesystem=local, path=/home/przemek/ray_results/pbt_cart_pole/PPO_CartPole-v1_fcb88_00002_2_num_sgd_iter=2,sgd_minibatch_size=64,train_batch_size=540_2023-11-19_21-12-38/checkpoint_000000)\n",
      "\u001b[36m(RolloutWorker pid=164029)\u001b[0m 2023-11-19 21:17:09,902\tWARNING __init__.py:10 -- PG has/have been moved to `rllib_contrib` and will no longer be maintained by the RLlib team. You can still use it/them normally inside RLlib util Ray 2.8, but from Ray 2.9 on, all `rllib_contrib` algorithms will no longer be part of the core repo, and will therefore have to be installed separately with pinned dependencies for e.g. ray[rllib] and other packages! See https://github.com/ray-project/ray/tree/master/rllib_contrib#rllib-contrib for more information on the RLlib contrib effort.\u001b[32m [repeated 7x across cluster]\u001b[0m\n",
      "\u001b[36m(RolloutWorker pid=166836)\u001b[0m 2023-11-19 21:19:24,481\tWARNING __init__.py:10 -- PG has/have been moved to `rllib_contrib` and will no longer be maintained by the RLlib team. You can still use it/them normally inside RLlib util Ray 2.8, but from Ray 2.9 on, all `rllib_contrib` algorithms will no longer be part of the core repo, and will therefore have to be installed separately with pinned dependencies for e.g. ray[rllib] and other packages! See https://github.com/ray-project/ray/tree/master/rllib_contrib#rllib-contrib for more information on the RLlib contrib effort.\u001b[32m [repeated 2x across cluster]\u001b[0m\n",
      "\u001b[36m(PPO pid=166744)\u001b[0m No CUDA runtime is found, using CUDA_HOME='/home/przemek/miniconda3/envs/ray_projects'\n",
      "\u001b[36m(PPO pid=166744)\u001b[0m /home/przemek/miniconda3/envs/ray_projects/lib/python3.10/site-packages/onnxruntime/capi/onnxruntime_validation.py:114: UserWarning: WARNING: failed to get cudart_version from onnxruntime build info.\n",
      "\u001b[36m(PPO pid=166744)\u001b[0m   warnings.warn(\"WARNING: failed to get cudart_version from onnxruntime build info.\")\n",
      "\u001b[36m(PPO pid=166744)\u001b[0m Install gputil for GPU system monitoring.\n",
      "\u001b[36m(PPO pid=166744)\u001b[0m Checkpoint successfully created at: Checkpoint(filesystem=local, path=/home/przemek/ray_results/pbt_cart_pole/PPO_CartPole-v1_fcb88_00003_3_num_sgd_iter=2,sgd_minibatch_size=128,train_batch_size=1024_2023-11-19_21-12-38/checkpoint_000000)\n",
      "\u001b[36m(RolloutWorker pid=166835)\u001b[0m 2023-11-19 21:19:24,802\tWARNING __init__.py:10 -- PG has/have been moved to `rllib_contrib` and will no longer be maintained by the RLlib team. You can still use it/them normally inside RLlib util Ray 2.8, but from Ray 2.9 on, all `rllib_contrib` algorithms will no longer be part of the core repo, and will therefore have to be installed separately with pinned dependencies for e.g. ray[rllib] and other packages! See https://github.com/ray-project/ray/tree/master/rllib_contrib#rllib-contrib for more information on the RLlib contrib effort.\u001b[32m [repeated 7x across cluster]\u001b[0m\n",
      "\u001b[36m(RolloutWorker pid=169570)\u001b[0m 2023-11-19 21:21:36,000\tWARNING __init__.py:10 -- PG has/have been moved to `rllib_contrib` and will no longer be maintained by the RLlib team. You can still use it/them normally inside RLlib util Ray 2.8, but from Ray 2.9 on, all `rllib_contrib` algorithms will no longer be part of the core repo, and will therefore have to be installed separately with pinned dependencies for e.g. ray[rllib] and other packages! See https://github.com/ray-project/ray/tree/master/rllib_contrib#rllib-contrib for more information on the RLlib contrib effort.\u001b[32m [repeated 2x across cluster]\u001b[0m\n",
      "\u001b[36m(PPO pid=169482)\u001b[0m No CUDA runtime is found, using CUDA_HOME='/home/przemek/miniconda3/envs/ray_projects'\n",
      "\u001b[36m(PPO pid=169482)\u001b[0m /home/przemek/miniconda3/envs/ray_projects/lib/python3.10/site-packages/onnxruntime/capi/onnxruntime_validation.py:114: UserWarning: WARNING: failed to get cudart_version from onnxruntime build info.\n",
      "\u001b[36m(PPO pid=169482)\u001b[0m   warnings.warn(\"WARNING: failed to get cudart_version from onnxruntime build info.\")\n",
      "\u001b[36m(PPO pid=169482)\u001b[0m Install gputil for GPU system monitoring.\n",
      "\u001b[36m(PPO pid=169482)\u001b[0m Checkpoint successfully created at: Checkpoint(filesystem=local, path=/home/przemek/ray_results/pbt_cart_pole/PPO_CartPole-v1_fcb88_00004_4_num_sgd_iter=2,sgd_minibatch_size=256,train_batch_size=1024_2023-11-19_21-12-38/checkpoint_000000)\n",
      "\u001b[36m(RolloutWorker pid=169568)\u001b[0m 2023-11-19 21:21:36,414\tWARNING __init__.py:10 -- PG has/have been moved to `rllib_contrib` and will no longer be maintained by the RLlib team. You can still use it/them normally inside RLlib util Ray 2.8, but from Ray 2.9 on, all `rllib_contrib` algorithms will no longer be part of the core repo, and will therefore have to be installed separately with pinned dependencies for e.g. ray[rllib] and other packages! See https://github.com/ray-project/ray/tree/master/rllib_contrib#rllib-contrib for more information on the RLlib contrib effort.\u001b[32m [repeated 7x across cluster]\u001b[0m\n",
      "\u001b[36m(RolloutWorker pid=172457)\u001b[0m 2023-11-19 21:23:48,093\tWARNING __init__.py:10 -- PG has/have been moved to `rllib_contrib` and will no longer be maintained by the RLlib team. You can still use it/them normally inside RLlib util Ray 2.8, but from Ray 2.9 on, all `rllib_contrib` algorithms will no longer be part of the core repo, and will therefore have to be installed separately with pinned dependencies for e.g. ray[rllib] and other packages! See https://github.com/ray-project/ray/tree/master/rllib_contrib#rllib-contrib for more information on the RLlib contrib effort.\u001b[32m [repeated 2x across cluster]\u001b[0m\n",
      "\u001b[36m(PPO pid=172337)\u001b[0m No CUDA runtime is found, using CUDA_HOME='/home/przemek/miniconda3/envs/ray_projects'\n",
      "\u001b[36m(PPO pid=172337)\u001b[0m /home/przemek/miniconda3/envs/ray_projects/lib/python3.10/site-packages/onnxruntime/capi/onnxruntime_validation.py:114: UserWarning: WARNING: failed to get cudart_version from onnxruntime build info.\n",
      "\u001b[36m(PPO pid=172337)\u001b[0m   warnings.warn(\"WARNING: failed to get cudart_version from onnxruntime build info.\")\n",
      "\u001b[36m(PPO pid=172337)\u001b[0m Install gputil for GPU system monitoring.\n",
      "\u001b[36m(PPO pid=172337)\u001b[0m Checkpoint successfully created at: Checkpoint(filesystem=local, path=/home/przemek/ray_results/pbt_cart_pole/PPO_CartPole-v1_fcb88_00005_5_num_sgd_iter=2,sgd_minibatch_size=128,train_batch_size=1024_2023-11-19_21-12-38/checkpoint_000000)\n",
      "\u001b[36m(RolloutWorker pid=172463)\u001b[0m 2023-11-19 21:23:48,526\tWARNING __init__.py:10 -- PG has/have been moved to `rllib_contrib` and will no longer be maintained by the RLlib team. You can still use it/them normally inside RLlib util Ray 2.8, but from Ray 2.9 on, all `rllib_contrib` algorithms will no longer be part of the core repo, and will therefore have to be installed separately with pinned dependencies for e.g. ray[rllib] and other packages! See https://github.com/ray-project/ray/tree/master/rllib_contrib#rllib-contrib for more information on the RLlib contrib effort.\u001b[32m [repeated 7x across cluster]\u001b[0m\n",
      "\u001b[36m(RolloutWorker pid=175392)\u001b[0m 2023-11-19 21:26:00,188\tWARNING __init__.py:10 -- PG has/have been moved to `rllib_contrib` and will no longer be maintained by the RLlib team. You can still use it/them normally inside RLlib util Ray 2.8, but from Ray 2.9 on, all `rllib_contrib` algorithms will no longer be part of the core repo, and will therefore have to be installed separately with pinned dependencies for e.g. ray[rllib] and other packages! See https://github.com/ray-project/ray/tree/master/rllib_contrib#rllib-contrib for more information on the RLlib contrib effort.\u001b[32m [repeated 2x across cluster]\u001b[0m\n",
      "\u001b[36m(PPO pid=175300)\u001b[0m No CUDA runtime is found, using CUDA_HOME='/home/przemek/miniconda3/envs/ray_projects'\n",
      "\u001b[36m(PPO pid=175300)\u001b[0m /home/przemek/miniconda3/envs/ray_projects/lib/python3.10/site-packages/onnxruntime/capi/onnxruntime_validation.py:114: UserWarning: WARNING: failed to get cudart_version from onnxruntime build info.\n",
      "\u001b[36m(PPO pid=175300)\u001b[0m   warnings.warn(\"WARNING: failed to get cudart_version from onnxruntime build info.\")\n",
      "\u001b[36m(PPO pid=175300)\u001b[0m Install gputil for GPU system monitoring.\n",
      "2023-11-19 21:28:07,262\tINFO pbt.py:716 -- [pbt]: no checkpoint for trial PPO_CartPole-v1_fcb88_00003. Skip exploit for Trial PPO_CartPole-v1_fcb88_00006\n",
      "\u001b[36m(PPO pid=175300)\u001b[0m Checkpoint successfully created at: Checkpoint(filesystem=local, path=/home/przemek/ray_results/pbt_cart_pole/PPO_CartPole-v1_fcb88_00006_6_num_sgd_iter=2,sgd_minibatch_size=64,train_batch_size=540_2023-11-19_21-12-38/checkpoint_000000)\n",
      "\u001b[36m(RolloutWorker pid=175394)\u001b[0m 2023-11-19 21:26:00,722\tWARNING __init__.py:10 -- PG has/have been moved to `rllib_contrib` and will no longer be maintained by the RLlib team. You can still use it/them normally inside RLlib util Ray 2.8, but from Ray 2.9 on, all `rllib_contrib` algorithms will no longer be part of the core repo, and will therefore have to be installed separately with pinned dependencies for e.g. ray[rllib] and other packages! See https://github.com/ray-project/ray/tree/master/rllib_contrib#rllib-contrib for more information on the RLlib contrib effort.\u001b[32m [repeated 7x across cluster]\u001b[0m\n",
      "\u001b[36m(RolloutWorker pid=178164)\u001b[0m 2023-11-19 21:28:14,197\tWARNING __init__.py:10 -- PG has/have been moved to `rllib_contrib` and will no longer be maintained by the RLlib team. You can still use it/them normally inside RLlib util Ray 2.8, but from Ray 2.9 on, all `rllib_contrib` algorithms will no longer be part of the core repo, and will therefore have to be installed separately with pinned dependencies for e.g. ray[rllib] and other packages! See https://github.com/ray-project/ray/tree/master/rllib_contrib#rllib-contrib for more information on the RLlib contrib effort.\u001b[32m [repeated 2x across cluster]\u001b[0m\n",
      "\u001b[36m(PPO pid=178075)\u001b[0m No CUDA runtime is found, using CUDA_HOME='/home/przemek/miniconda3/envs/ray_projects'\n",
      "\u001b[36m(PPO pid=178075)\u001b[0m /home/przemek/miniconda3/envs/ray_projects/lib/python3.10/site-packages/onnxruntime/capi/onnxruntime_validation.py:114: UserWarning: WARNING: failed to get cudart_version from onnxruntime build info.\n",
      "\u001b[36m(PPO pid=178075)\u001b[0m   warnings.warn(\"WARNING: failed to get cudart_version from onnxruntime build info.\")\n",
      "\u001b[36m(PPO pid=178075)\u001b[0m Install gputil for GPU system monitoring.\n",
      "\u001b[36m(PPO pid=178075)\u001b[0m Checkpoint successfully created at: Checkpoint(filesystem=local, path=/home/przemek/ray_results/pbt_cart_pole/PPO_CartPole-v1_fcb88_00007_7_num_sgd_iter=2,sgd_minibatch_size=64,train_batch_size=540_2023-11-19_21-12-38/checkpoint_000000)\n",
      "\u001b[36m(RolloutWorker pid=178166)\u001b[0m 2023-11-19 21:28:14,626\tWARNING __init__.py:10 -- PG has/have been moved to `rllib_contrib` and will no longer be maintained by the RLlib team. You can still use it/them normally inside RLlib util Ray 2.8, but from Ray 2.9 on, all `rllib_contrib` algorithms will no longer be part of the core repo, and will therefore have to be installed separately with pinned dependencies for e.g. ray[rllib] and other packages! See https://github.com/ray-project/ray/tree/master/rllib_contrib#rllib-contrib for more information on the RLlib contrib effort.\u001b[32m [repeated 7x across cluster]\u001b[0m\n",
      "\u001b[36m(RolloutWorker pid=180928)\u001b[0m 2023-11-19 21:30:28,169\tWARNING __init__.py:10 -- PG has/have been moved to `rllib_contrib` and will no longer be maintained by the RLlib team. You can still use it/them normally inside RLlib util Ray 2.8, but from Ray 2.9 on, all `rllib_contrib` algorithms will no longer be part of the core repo, and will therefore have to be installed separately with pinned dependencies for e.g. ray[rllib] and other packages! See https://github.com/ray-project/ray/tree/master/rllib_contrib#rllib-contrib for more information on the RLlib contrib effort.\u001b[32m [repeated 2x across cluster]\u001b[0m\n",
      "\u001b[36m(PPO pid=180842)\u001b[0m No CUDA runtime is found, using CUDA_HOME='/home/przemek/miniconda3/envs/ray_projects'\n",
      "\u001b[36m(PPO pid=180842)\u001b[0m /home/przemek/miniconda3/envs/ray_projects/lib/python3.10/site-packages/onnxruntime/capi/onnxruntime_validation.py:114: UserWarning: WARNING: failed to get cudart_version from onnxruntime build info.\n",
      "\u001b[36m(PPO pid=180842)\u001b[0m   warnings.warn(\"WARNING: failed to get cudart_version from onnxruntime build info.\")\n",
      "\u001b[36m(PPO pid=180842)\u001b[0m Install gputil for GPU system monitoring.\n",
      "\u001b[36m(PPO pid=180842)\u001b[0m Restored on 192.168.0.80 from checkpoint: Checkpoint(filesystem=local, path=/home/przemek/ray_results/pbt_cart_pole/PPO_CartPole-v1_fcb88_00002_2_num_sgd_iter=2,sgd_minibatch_size=64,train_batch_size=540_2023-11-19_21-12-38/checkpoint_000000)\n",
      "\u001b[36m(PPO pid=180842)\u001b[0m Checkpoint successfully created at: Checkpoint(filesystem=local, path=/home/przemek/ray_results/pbt_cart_pole/PPO_CartPole-v1_fcb88_00002_2_num_sgd_iter=2,sgd_minibatch_size=64,train_batch_size=540_2023-11-19_21-12-38/checkpoint_000001)\n",
      "\u001b[36m(RolloutWorker pid=180927)\u001b[0m 2023-11-19 21:30:28,771\tWARNING __init__.py:10 -- PG has/have been moved to `rllib_contrib` and will no longer be maintained by the RLlib team. You can still use it/them normally inside RLlib util Ray 2.8, but from Ray 2.9 on, all `rllib_contrib` algorithms will no longer be part of the core repo, and will therefore have to be installed separately with pinned dependencies for e.g. ray[rllib] and other packages! See https://github.com/ray-project/ray/tree/master/rllib_contrib#rllib-contrib for more information on the RLlib contrib effort.\u001b[32m [repeated 7x across cluster]\u001b[0m\n",
      "\u001b[36m(RolloutWorker pid=183646)\u001b[0m 2023-11-19 21:32:42,317\tWARNING __init__.py:10 -- PG has/have been moved to `rllib_contrib` and will no longer be maintained by the RLlib team. You can still use it/them normally inside RLlib util Ray 2.8, but from Ray 2.9 on, all `rllib_contrib` algorithms will no longer be part of the core repo, and will therefore have to be installed separately with pinned dependencies for e.g. ray[rllib] and other packages! See https://github.com/ray-project/ray/tree/master/rllib_contrib#rllib-contrib for more information on the RLlib contrib effort.\u001b[32m [repeated 2x across cluster]\u001b[0m\n",
      "\u001b[36m(PPO pid=183555)\u001b[0m No CUDA runtime is found, using CUDA_HOME='/home/przemek/miniconda3/envs/ray_projects'\n",
      "\u001b[36m(PPO pid=183555)\u001b[0m /home/przemek/miniconda3/envs/ray_projects/lib/python3.10/site-packages/onnxruntime/capi/onnxruntime_validation.py:114: UserWarning: WARNING: failed to get cudart_version from onnxruntime build info.\n",
      "\u001b[36m(PPO pid=183555)\u001b[0m   warnings.warn(\"WARNING: failed to get cudart_version from onnxruntime build info.\")\n",
      "\u001b[36m(PPO pid=183555)\u001b[0m Install gputil for GPU system monitoring.\n",
      "\u001b[36m(PPO pid=183555)\u001b[0m Restored on 192.168.0.80 from checkpoint: Checkpoint(filesystem=local, path=/home/przemek/ray_results/pbt_cart_pole/PPO_CartPole-v1_fcb88_00007_7_num_sgd_iter=2,sgd_minibatch_size=64,train_batch_size=540_2023-11-19_21-12-38/checkpoint_000000)\n",
      "\u001b[36m(PPO pid=183555)\u001b[0m Checkpoint successfully created at: Checkpoint(filesystem=local, path=/home/przemek/ray_results/pbt_cart_pole/PPO_CartPole-v1_fcb88_00007_7_num_sgd_iter=2,sgd_minibatch_size=64,train_batch_size=540_2023-11-19_21-12-38/checkpoint_000001)\n",
      "\u001b[36m(RolloutWorker pid=183647)\u001b[0m 2023-11-19 21:32:42,897\tWARNING __init__.py:10 -- PG has/have been moved to `rllib_contrib` and will no longer be maintained by the RLlib team. You can still use it/them normally inside RLlib util Ray 2.8, but from Ray 2.9 on, all `rllib_contrib` algorithms will no longer be part of the core repo, and will therefore have to be installed separately with pinned dependencies for e.g. ray[rllib] and other packages! See https://github.com/ray-project/ray/tree/master/rllib_contrib#rllib-contrib for more information on the RLlib contrib effort.\u001b[32m [repeated 7x across cluster]\u001b[0m\n",
      "\u001b[36m(RolloutWorker pid=186379)\u001b[0m 2023-11-19 21:34:56,390\tWARNING __init__.py:10 -- PG has/have been moved to `rllib_contrib` and will no longer be maintained by the RLlib team. You can still use it/them normally inside RLlib util Ray 2.8, but from Ray 2.9 on, all `rllib_contrib` algorithms will no longer be part of the core repo, and will therefore have to be installed separately with pinned dependencies for e.g. ray[rllib] and other packages! See https://github.com/ray-project/ray/tree/master/rllib_contrib#rllib-contrib for more information on the RLlib contrib effort.\u001b[32m [repeated 2x across cluster]\u001b[0m\n",
      "\u001b[36m(PPO pid=186290)\u001b[0m No CUDA runtime is found, using CUDA_HOME='/home/przemek/miniconda3/envs/ray_projects'\n",
      "\u001b[36m(PPO pid=186290)\u001b[0m /home/przemek/miniconda3/envs/ray_projects/lib/python3.10/site-packages/onnxruntime/capi/onnxruntime_validation.py:114: UserWarning: WARNING: failed to get cudart_version from onnxruntime build info.\n",
      "\u001b[36m(PPO pid=186290)\u001b[0m   warnings.warn(\"WARNING: failed to get cudart_version from onnxruntime build info.\")\n",
      "\u001b[36m(PPO pid=186290)\u001b[0m Install gputil for GPU system monitoring.\n",
      "\u001b[36m(PPO pid=186290)\u001b[0m Restored on 192.168.0.80 from checkpoint: Checkpoint(filesystem=local, path=/home/przemek/ray_results/pbt_cart_pole/PPO_CartPole-v1_fcb88_00006_6_num_sgd_iter=2,sgd_minibatch_size=64,train_batch_size=540_2023-11-19_21-12-38/checkpoint_000000)\n",
      "\u001b[36m(PPO pid=186290)\u001b[0m Checkpoint successfully created at: Checkpoint(filesystem=local, path=/home/przemek/ray_results/pbt_cart_pole/PPO_CartPole-v1_fcb88_00006_6_num_sgd_iter=2,sgd_minibatch_size=64,train_batch_size=540_2023-11-19_21-12-38/checkpoint_000001)\n",
      "\u001b[36m(RolloutWorker pid=186375)\u001b[0m 2023-11-19 21:34:56,657\tWARNING __init__.py:10 -- PG has/have been moved to `rllib_contrib` and will no longer be maintained by the RLlib team. You can still use it/them normally inside RLlib util Ray 2.8, but from Ray 2.9 on, all `rllib_contrib` algorithms will no longer be part of the core repo, and will therefore have to be installed separately with pinned dependencies for e.g. ray[rllib] and other packages! See https://github.com/ray-project/ray/tree/master/rllib_contrib#rllib-contrib for more information on the RLlib contrib effort.\u001b[32m [repeated 7x across cluster]\u001b[0m\n",
      "\u001b[36m(RolloutWorker pid=189240)\u001b[0m 2023-11-19 21:37:10,433\tWARNING __init__.py:10 -- PG has/have been moved to `rllib_contrib` and will no longer be maintained by the RLlib team. You can still use it/them normally inside RLlib util Ray 2.8, but from Ray 2.9 on, all `rllib_contrib` algorithms will no longer be part of the core repo, and will therefore have to be installed separately with pinned dependencies for e.g. ray[rllib] and other packages! See https://github.com/ray-project/ray/tree/master/rllib_contrib#rllib-contrib for more information on the RLlib contrib effort.\u001b[32m [repeated 2x across cluster]\u001b[0m\n",
      "\u001b[36m(PPO pid=189149)\u001b[0m No CUDA runtime is found, using CUDA_HOME='/home/przemek/miniconda3/envs/ray_projects'\n",
      "\u001b[36m(PPO pid=189149)\u001b[0m /home/przemek/miniconda3/envs/ray_projects/lib/python3.10/site-packages/onnxruntime/capi/onnxruntime_validation.py:114: UserWarning: WARNING: failed to get cudart_version from onnxruntime build info.\n",
      "\u001b[36m(PPO pid=189149)\u001b[0m   warnings.warn(\"WARNING: failed to get cudart_version from onnxruntime build info.\")\n",
      "\u001b[36m(PPO pid=189149)\u001b[0m Install gputil for GPU system monitoring.\n",
      "\u001b[36m(PPO pid=189149)\u001b[0m Restored on 192.168.0.80 from checkpoint: Checkpoint(filesystem=local, path=/home/przemek/ray_results/pbt_cart_pole/PPO_CartPole-v1_fcb88_00004_4_num_sgd_iter=2,sgd_minibatch_size=256,train_batch_size=1024_2023-11-19_21-12-38/checkpoint_000000)\n",
      "\u001b[36m(PPO pid=189149)\u001b[0m Checkpoint successfully created at: Checkpoint(filesystem=local, path=/home/przemek/ray_results/pbt_cart_pole/PPO_CartPole-v1_fcb88_00004_4_num_sgd_iter=2,sgd_minibatch_size=256,train_batch_size=1024_2023-11-19_21-12-38/checkpoint_000001)\n",
      "\u001b[36m(RolloutWorker pid=189230)\u001b[0m 2023-11-19 21:37:10,836\tWARNING __init__.py:10 -- PG has/have been moved to `rllib_contrib` and will no longer be maintained by the RLlib team. You can still use it/them normally inside RLlib util Ray 2.8, but from Ray 2.9 on, all `rllib_contrib` algorithms will no longer be part of the core repo, and will therefore have to be installed separately with pinned dependencies for e.g. ray[rllib] and other packages! See https://github.com/ray-project/ray/tree/master/rllib_contrib#rllib-contrib for more information on the RLlib contrib effort.\u001b[32m [repeated 7x across cluster]\u001b[0m\n",
      "\u001b[36m(RolloutWorker pid=192047)\u001b[0m 2023-11-19 21:39:22,168\tWARNING __init__.py:10 -- PG has/have been moved to `rllib_contrib` and will no longer be maintained by the RLlib team. You can still use it/them normally inside RLlib util Ray 2.8, but from Ray 2.9 on, all `rllib_contrib` algorithms will no longer be part of the core repo, and will therefore have to be installed separately with pinned dependencies for e.g. ray[rllib] and other packages! See https://github.com/ray-project/ray/tree/master/rllib_contrib#rllib-contrib for more information on the RLlib contrib effort.\u001b[32m [repeated 2x across cluster]\u001b[0m\n",
      "\u001b[36m(PPO pid=191966)\u001b[0m No CUDA runtime is found, using CUDA_HOME='/home/przemek/miniconda3/envs/ray_projects'\n",
      "\u001b[36m(PPO pid=191966)\u001b[0m /home/przemek/miniconda3/envs/ray_projects/lib/python3.10/site-packages/onnxruntime/capi/onnxruntime_validation.py:114: UserWarning: WARNING: failed to get cudart_version from onnxruntime build info.\n",
      "\u001b[36m(PPO pid=191966)\u001b[0m   warnings.warn(\"WARNING: failed to get cudart_version from onnxruntime build info.\")\n",
      "\u001b[36m(PPO pid=191966)\u001b[0m Install gputil for GPU system monitoring.\n",
      "\u001b[36m(PPO pid=191966)\u001b[0m Restored on 192.168.0.80 from checkpoint: Checkpoint(filesystem=local, path=/home/przemek/ray_results/pbt_cart_pole/PPO_CartPole-v1_fcb88_00003_3_num_sgd_iter=2,sgd_minibatch_size=128,train_batch_size=1024_2023-11-19_21-12-38/checkpoint_000000)\n",
      "\u001b[36m(PPO pid=191966)\u001b[0m Checkpoint successfully created at: Checkpoint(filesystem=local, path=/home/przemek/ray_results/pbt_cart_pole/PPO_CartPole-v1_fcb88_00003_3_num_sgd_iter=2,sgd_minibatch_size=128,train_batch_size=1024_2023-11-19_21-12-38/checkpoint_000001)\n",
      "\u001b[36m(RolloutWorker pid=192053)\u001b[0m 2023-11-19 21:39:22,511\tWARNING __init__.py:10 -- PG has/have been moved to `rllib_contrib` and will no longer be maintained by the RLlib team. You can still use it/them normally inside RLlib util Ray 2.8, but from Ray 2.9 on, all `rllib_contrib` algorithms will no longer be part of the core repo, and will therefore have to be installed separately with pinned dependencies for e.g. ray[rllib] and other packages! See https://github.com/ray-project/ray/tree/master/rllib_contrib#rllib-contrib for more information on the RLlib contrib effort.\u001b[32m [repeated 7x across cluster]\u001b[0m\n",
      "\u001b[36m(RolloutWorker pid=194782)\u001b[0m 2023-11-19 21:41:34,364\tWARNING __init__.py:10 -- PG has/have been moved to `rllib_contrib` and will no longer be maintained by the RLlib team. You can still use it/them normally inside RLlib util Ray 2.8, but from Ray 2.9 on, all `rllib_contrib` algorithms will no longer be part of the core repo, and will therefore have to be installed separately with pinned dependencies for e.g. ray[rllib] and other packages! See https://github.com/ray-project/ray/tree/master/rllib_contrib#rllib-contrib for more information on the RLlib contrib effort.\u001b[32m [repeated 2x across cluster]\u001b[0m\n",
      "\u001b[36m(PPO pid=194693)\u001b[0m No CUDA runtime is found, using CUDA_HOME='/home/przemek/miniconda3/envs/ray_projects'\n",
      "\u001b[36m(PPO pid=194693)\u001b[0m /home/przemek/miniconda3/envs/ray_projects/lib/python3.10/site-packages/onnxruntime/capi/onnxruntime_validation.py:114: UserWarning: WARNING: failed to get cudart_version from onnxruntime build info.\n",
      "\u001b[36m(PPO pid=194693)\u001b[0m   warnings.warn(\"WARNING: failed to get cudart_version from onnxruntime build info.\")\n",
      "\u001b[36m(PPO pid=194693)\u001b[0m Install gputil for GPU system monitoring.\n",
      "\u001b[36m(PPO pid=194693)\u001b[0m Restored on 192.168.0.80 from checkpoint: Checkpoint(filesystem=local, path=/home/przemek/ray_results/pbt_cart_pole/PPO_CartPole-v1_fcb88_00000_0_num_sgd_iter=2,sgd_minibatch_size=128,train_batch_size=1024_2023-11-19_21-12-38/checkpoint_000000)\n",
      "\u001b[36m(PPO pid=194693)\u001b[0m Checkpoint successfully created at: Checkpoint(filesystem=local, path=/home/przemek/ray_results/pbt_cart_pole/PPO_CartPole-v1_fcb88_00000_0_num_sgd_iter=2,sgd_minibatch_size=128,train_batch_size=1024_2023-11-19_21-12-38/checkpoint_000001)\n",
      "\u001b[36m(RolloutWorker pid=194783)\u001b[0m 2023-11-19 21:41:34,719\tWARNING __init__.py:10 -- PG has/have been moved to `rllib_contrib` and will no longer be maintained by the RLlib team. You can still use it/them normally inside RLlib util Ray 2.8, but from Ray 2.9 on, all `rllib_contrib` algorithms will no longer be part of the core repo, and will therefore have to be installed separately with pinned dependencies for e.g. ray[rllib] and other packages! See https://github.com/ray-project/ray/tree/master/rllib_contrib#rllib-contrib for more information on the RLlib contrib effort.\u001b[32m [repeated 7x across cluster]\u001b[0m\n",
      "\u001b[36m(RolloutWorker pid=197625)\u001b[0m 2023-11-19 21:43:46,584\tWARNING __init__.py:10 -- PG has/have been moved to `rllib_contrib` and will no longer be maintained by the RLlib team. You can still use it/them normally inside RLlib util Ray 2.8, but from Ray 2.9 on, all `rllib_contrib` algorithms will no longer be part of the core repo, and will therefore have to be installed separately with pinned dependencies for e.g. ray[rllib] and other packages! See https://github.com/ray-project/ray/tree/master/rllib_contrib#rllib-contrib for more information on the RLlib contrib effort.\u001b[32m [repeated 2x across cluster]\u001b[0m\n",
      "\u001b[36m(PPO pid=197512)\u001b[0m No CUDA runtime is found, using CUDA_HOME='/home/przemek/miniconda3/envs/ray_projects'\n",
      "\u001b[36m(PPO pid=197512)\u001b[0m /home/przemek/miniconda3/envs/ray_projects/lib/python3.10/site-packages/onnxruntime/capi/onnxruntime_validation.py:114: UserWarning: WARNING: failed to get cudart_version from onnxruntime build info.\n",
      "\u001b[36m(PPO pid=197512)\u001b[0m   warnings.warn(\"WARNING: failed to get cudart_version from onnxruntime build info.\")\n",
      "\u001b[36m(PPO pid=197512)\u001b[0m Install gputil for GPU system monitoring.\n",
      "\u001b[36m(PPO pid=197512)\u001b[0m Restored on 192.168.0.80 from checkpoint: Checkpoint(filesystem=local, path=/home/przemek/ray_results/pbt_cart_pole/PPO_CartPole-v1_fcb88_00001_1_num_sgd_iter=2,sgd_minibatch_size=128,train_batch_size=1024_2023-11-19_21-12-38/checkpoint_000000)\n",
      "2023-11-19 21:45:51,709\tINFO pbt.py:716 -- [pbt]: no checkpoint for trial PPO_CartPole-v1_fcb88_00000. Skip exploit for Trial PPO_CartPole-v1_fcb88_00001\n",
      "\u001b[36m(PPO pid=197512)\u001b[0m Checkpoint successfully created at: Checkpoint(filesystem=local, path=/home/przemek/ray_results/pbt_cart_pole/PPO_CartPole-v1_fcb88_00001_1_num_sgd_iter=2,sgd_minibatch_size=128,train_batch_size=1024_2023-11-19_21-12-38/checkpoint_000001)\n",
      "\u001b[36m(RolloutWorker pid=197627)\u001b[0m 2023-11-19 21:43:46,869\tWARNING __init__.py:10 -- PG has/have been moved to `rllib_contrib` and will no longer be maintained by the RLlib team. You can still use it/them normally inside RLlib util Ray 2.8, but from Ray 2.9 on, all `rllib_contrib` algorithms will no longer be part of the core repo, and will therefore have to be installed separately with pinned dependencies for e.g. ray[rllib] and other packages! See https://github.com/ray-project/ray/tree/master/rllib_contrib#rllib-contrib for more information on the RLlib contrib effort.\u001b[32m [repeated 7x across cluster]\u001b[0m\n",
      "\u001b[36m(RolloutWorker pid=200432)\u001b[0m 2023-11-19 21:45:58,175\tWARNING __init__.py:10 -- PG has/have been moved to `rllib_contrib` and will no longer be maintained by the RLlib team. You can still use it/them normally inside RLlib util Ray 2.8, but from Ray 2.9 on, all `rllib_contrib` algorithms will no longer be part of the core repo, and will therefore have to be installed separately with pinned dependencies for e.g. ray[rllib] and other packages! See https://github.com/ray-project/ray/tree/master/rllib_contrib#rllib-contrib for more information on the RLlib contrib effort.\u001b[32m [repeated 2x across cluster]\u001b[0m\n",
      "\u001b[36m(PPO pid=200347)\u001b[0m No CUDA runtime is found, using CUDA_HOME='/home/przemek/miniconda3/envs/ray_projects'\n",
      "\u001b[36m(PPO pid=200347)\u001b[0m /home/przemek/miniconda3/envs/ray_projects/lib/python3.10/site-packages/onnxruntime/capi/onnxruntime_validation.py:114: UserWarning: WARNING: failed to get cudart_version from onnxruntime build info.\n",
      "\u001b[36m(PPO pid=200347)\u001b[0m   warnings.warn(\"WARNING: failed to get cudart_version from onnxruntime build info.\")\n",
      "\u001b[36m(PPO pid=200347)\u001b[0m Install gputil for GPU system monitoring.\n",
      "\u001b[36m(PPO pid=200347)\u001b[0m Restored on 192.168.0.80 from checkpoint: Checkpoint(filesystem=local, path=/home/przemek/ray_results/pbt_cart_pole/PPO_CartPole-v1_fcb88_00005_5_num_sgd_iter=2,sgd_minibatch_size=128,train_batch_size=1024_2023-11-19_21-12-38/checkpoint_000000)\n",
      "2023-11-19 21:46:13,541\tWARNING tune.py:186 -- Stop signal received (e.g. via SIGINT/Ctrl+C), ending Ray Tune run. This will try to checkpoint the experiment state one last time. Press CTRL+C (or send SIGINT/SIGKILL/SIGTERM) to skip. \n",
      "2023-11-19 21:46:14,237\tERROR tune.py:1043 -- Trials did not complete: [PPO_CartPole-v1_fcb88_00000, PPO_CartPole-v1_fcb88_00001, PPO_CartPole-v1_fcb88_00002, PPO_CartPole-v1_fcb88_00003, PPO_CartPole-v1_fcb88_00004, PPO_CartPole-v1_fcb88_00006]\n",
      "2023-11-19 21:46:14,238\tINFO tune.py:1047 -- Total run time: 2015.34 seconds (2014.63 seconds for the tuning loop).\n",
      "2023-11-19 21:46:14,241\tWARNING tune.py:1062 -- Experiment has been interrupted, but the most recent state was saved.\n",
      "Resume experiment with: Tuner.restore(path=\"/home/przemek/ray_results/pbt_cart_pole\", trainable=...)\n"
     ]
    }
   ],
   "source": [
    "tuner = tune.Tuner(\n",
    "    PPO,\n",
    "    run_config=train.RunConfig(\n",
    "        name=\"pbt_cart_pole\",\n",
    "    ),\n",
    "    tune_config=tune.TuneConfig(\n",
    "        scheduler=pbt,\n",
    "        num_samples=8,\n",
    "        metric=\"episode_reward_mean\",\n",
    "        mode=\"max\",\n",
    "    ),\n",
    "    param_space={\n",
    "        \"env\": \"CartPole-v1\",\n",
    "        \"kl_coeff\": 1.0,\n",
    "        \"num_workers\": 8,\n",
    "        \"num_gpus\": GPU_UTILIZATION,\n",
    "        # These params are tuned from a fixed starting value.\n",
    "        \"lambda\": 0.95,\n",
    "        \"clip_param\": 0.2,\n",
    "        \"lr\": 1e-4,\n",
    "        # These params start off randomly drawn from a set.\n",
    "        \"num_sgd_iter\": tune.choice([2,]),\n",
    "        \"sgd_minibatch_size\": tune.choice([64, 128, 256]),\n",
    "        \"train_batch_size\": tune.choice([320, 540, 1024]),\n",
    "    },\n",
    ")\n",
    "results = tuner.fit()"
   ]
  },
  {
   "cell_type": "code",
   "execution_count": 15,
   "metadata": {},
   "outputs": [],
   "source": [
    "chck = results.get_best_result().get_best_checkpoint(\"episode_len_mean\",\"max\")"
   ]
  },
  {
   "cell_type": "code",
   "execution_count": 35,
   "metadata": {},
   "outputs": [
    {
     "data": {
      "text/plain": [
       "['policy_state.pkl', 'rllib_checkpoint.json']"
      ]
     },
     "execution_count": 35,
     "metadata": {},
     "output_type": "execute_result"
    }
   ],
   "source": [
    "import os \n",
    "os.listdir(chck.path+'/policies/default_policy')"
   ]
  },
  {
   "cell_type": "code",
   "execution_count": 36,
   "metadata": {},
   "outputs": [
    {
     "name": "stderr",
     "output_type": "stream",
     "text": [
      "/home/przemek/miniconda3/envs/ray_projects/lib/python3.10/site-packages/ray/rllib/algorithms/algorithm.py:484: RayDeprecationWarning: This API is deprecated and may be removed in future Ray releases. You could suppress this warning by setting env variable PYTHONWARNINGS=\"ignore::DeprecationWarning\"\n",
      "`UnifiedLogger` will be removed in Ray 2.7.\n",
      "  return UnifiedLogger(config, logdir, loggers=None)\n",
      "/home/przemek/miniconda3/envs/ray_projects/lib/python3.10/site-packages/ray/tune/logger/unified.py:53: RayDeprecationWarning: This API is deprecated and may be removed in future Ray releases. You could suppress this warning by setting env variable PYTHONWARNINGS=\"ignore::DeprecationWarning\"\n",
      "The `JsonLogger interface is deprecated in favor of the `ray.tune.json.JsonLoggerCallback` interface and will be removed in Ray 2.7.\n",
      "  self._loggers.append(cls(self.config, self.logdir, self.trial))\n",
      "/home/przemek/miniconda3/envs/ray_projects/lib/python3.10/site-packages/ray/tune/logger/unified.py:53: RayDeprecationWarning: This API is deprecated and may be removed in future Ray releases. You could suppress this warning by setting env variable PYTHONWARNINGS=\"ignore::DeprecationWarning\"\n",
      "The `CSVLogger interface is deprecated in favor of the `ray.tune.csv.CSVLoggerCallback` interface and will be removed in Ray 2.7.\n",
      "  self._loggers.append(cls(self.config, self.logdir, self.trial))\n",
      "/home/przemek/miniconda3/envs/ray_projects/lib/python3.10/site-packages/ray/tune/logger/unified.py:53: RayDeprecationWarning: This API is deprecated and may be removed in future Ray releases. You could suppress this warning by setting env variable PYTHONWARNINGS=\"ignore::DeprecationWarning\"\n",
      "The `TBXLogger interface is deprecated in favor of the `ray.tune.tensorboardx.TBXLoggerCallback` interface and will be removed in Ray 2.7.\n",
      "  self._loggers.append(cls(self.config, self.logdir, self.trial))\n",
      "\u001b[36m(RolloutWorker pid=215751)\u001b[0m 2023-11-19 21:58:54,145\tWARNING __init__.py:10 -- PG has/have been moved to `rllib_contrib` and will no longer be maintained by the RLlib team. You can still use it/them normally inside RLlib util Ray 2.8, but from Ray 2.9 on, all `rllib_contrib` algorithms will no longer be part of the core repo, and will therefore have to be installed separately with pinned dependencies for e.g. ray[rllib] and other packages! See https://github.com/ray-project/ray/tree/master/rllib_contrib#rllib-contrib for more information on the RLlib contrib effort.\n",
      "/home/przemek/miniconda3/envs/ray_projects/lib/python3.10/site-packages/onnxruntime/capi/onnxruntime_validation.py:114: UserWarning: WARNING: failed to get cudart_version from onnxruntime build info.\n",
      "  warnings.warn(\"WARNING: failed to get cudart_version from onnxruntime build info.\")\n",
      "2023-11-19 21:58:55,503\tWARNING util.py:62 -- Install gputil for GPU system monitoring.\n"
     ]
    }
   ],
   "source": [
    "from ray.rllib.algorithms.algorithm import Algorithm\n",
    "algo2 = Algorithm.from_checkpoint(chck)"
   ]
  },
  {
   "cell_type": "code",
   "execution_count": 44,
   "id": "9f843bac",
   "metadata": {},
   "outputs": [],
   "source": [
    "import gymnasium as gym \n",
    "import torch\n",
    "import matplotlib.pyplot as plt\n",
    "from IPython.display import clear_output"
   ]
  },
  {
   "cell_type": "code",
   "execution_count": 45,
   "id": "76ef079d",
   "metadata": {},
   "outputs": [],
   "source": [
    "env = gym.make('CartPole-v1', render_mode=\"rgb_array\")\n",
    "model = algo2.get_policy().model"
   ]
  },
  {
   "cell_type": "code",
   "execution_count": 49,
   "id": "f49b7d37",
   "metadata": {},
   "outputs": [
    {
     "data": {
      "image/png": "[encoded data removed]",
      "text/plain": [
       "<Figure size 640x480 with 1 Axes>"
      ]
     },
     "metadata": {},
     "output_type": "display_data"
    },
    {
     "name": "stdout",
     "output_type": "stream",
     "text": [
      "Episode finished after 273 steps\n"
     ]
    }
   ],
   "source": [
    "next_state = env.reset()[0]\n",
    "num_steps = 1000\n",
    "\n",
    "for step in range(num_steps):\n",
    "    with torch.no_grad():\n",
    "        action = model({'obs': torch.Tensor(next_state.reshape([1,4]))})['action_dist_inputs'].argmax().item()\n",
    "\n",
    "    next_state, reward, done = env.step(action)[:3]\n",
    "\n",
    "    clear_output(wait=True)\n",
    "    plt.imshow(env.render())\n",
    "    plt.show()\n",
    "\n",
    "    print(step, end='\\r')\n",
    "    \n",
    "    if done:\n",
    "        print(f\"Episode finished after {step+1} steps\")\n",
    "        break"
   ]
  },
  {
   "cell_type": "code",
   "execution_count": 56,
   "metadata": {},
   "outputs": [
    {
     "data": {
      "text/plain": [
       "67072"
      ]
     },
     "execution_count": 56,
     "metadata": {},
     "output_type": "execute_result"
    }
   ],
   "source": [
    "sum([i.numel() for i in model.encoder.actor_encoder.parameters()])"
   ]
  },
  {
   "cell_type": "code",
   "execution_count": 55,
   "metadata": {},
   "outputs": [
    {
     "data": {
      "text/plain": [
       "PPOTorchRLModule(\n",
       "  (encoder): TorchActorCriticEncoder(\n",
       "    (actor_encoder): TorchMLPEncoder(\n",
       "      (net): TorchMLP(\n",
       "        (mlp): Sequential(\n",
       "          (0): Linear(in_features=4, out_features=256, bias=True)\n",
       "          (1): Tanh()\n",
       "          (2): Linear(in_features=256, out_features=256, bias=True)\n",
       "          (3): Tanh()\n",
       "        )\n",
       "      )\n",
       "    )\n",
       "    (critic_encoder): TorchMLPEncoder(\n",
       "      (net): TorchMLP(\n",
       "        (mlp): Sequential(\n",
       "          (0): Linear(in_features=4, out_features=256, bias=True)\n",
       "          (1): Tanh()\n",
       "          (2): Linear(in_features=256, out_features=256, bias=True)\n",
       "          (3): Tanh()\n",
       "        )\n",
       "      )\n",
       "    )\n",
       "  )\n",
       "  (pi): TorchMLPHead(\n",
       "    (net): TorchMLP(\n",
       "      (mlp): Sequential(\n",
       "        (0): Linear(in_features=256, out_features=2, bias=True)\n",
       "      )\n",
       "    )\n",
       "  )\n",
       "  (vf): TorchMLPHead(\n",
       "    (net): TorchMLP(\n",
       "      (mlp): Sequential(\n",
       "        (0): Linear(in_features=256, out_features=1, bias=True)\n",
       "      )\n",
       "    )\n",
       "  )\n",
       ")"
      ]
     },
     "execution_count": 55,
     "metadata": {},
     "output_type": "execute_result"
    }
   ],
   "source": [
    "model"
   ]
  },
  {
   "cell_type": "code",
   "execution_count": null,
   "metadata": {},
   "outputs": [],
   "source": []
  }
 ],
 "metadata": {
  "kernelspec": {
   "display_name": "ray_projects",
   "language": "python",
   "name": "python3"
  },
  "language_info": {
   "codemirror_mode": {
    "name": "ipython",
    "version": 3
   },
   "file_extension": ".py",
   "mimetype": "text/x-python",
   "name": "python",
   "nbconvert_exporter": "python",
   "pygments_lexer": "ipython3",
   "version": "3.10.13"
  }
 },
 "nbformat": 4,
 "nbformat_minor": 5
}
