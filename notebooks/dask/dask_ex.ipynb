{
 "cells": [
  {
   "cell_type": "code",
   "execution_count": 1,
   "id": "cf172b48",
   "metadata": {},
   "outputs": [
    {
     "ename": "ModuleNotFoundError",
     "evalue": "No module named 'dask'",
     "output_type": "error",
     "traceback": [
      "\u001b[0;31m---------------------------------------------------------------------------\u001b[0m",
      "\u001b[0;31mModuleNotFoundError\u001b[0m                       Traceback (most recent call last)",
      "Cell \u001b[0;32mIn[1], line 1\u001b[0m\n\u001b[0;32m----> 1\u001b[0m \u001b[38;5;28;01mimport\u001b[39;00m \u001b[38;5;21;01mdask\u001b[39;00m\n\u001b[1;32m      2\u001b[0m \u001b[38;5;28;01mimport\u001b[39;00m \u001b[38;5;21;01mcudf\u001b[39;00m\n\u001b[1;32m      3\u001b[0m \u001b[38;5;28;01mimport\u001b[39;00m \u001b[38;5;21;01mdask\u001b[39;00m\n",
      "\u001b[0;31mModuleNotFoundError\u001b[0m: No module named 'dask'"
     ]
    }
   ],
   "source": [
    "import dask\n",
    "import cudf\n",
    "import dask\n",
    "dask.config.set({\"dataframe.backend\": \"cudf\"})\n",
    "import dask.dataframe as dd\n",
    "dask.array.random.random(2)\n",
    "dask.array.random.random(20)\n",
    "dask.array.random.random(20000)\n",
    "dd.DataFrame(dask.array.random.random(20000),name='dtest',)\n",
    "dask.array.random.randint((20000)\n",
    ")\n",
    "dask.array.random.randint(20000)\n",
    "dd.DataFrame(dask.array.random.randint(20000), name='test', meta={})\n",
    "from dask.dataframe.utils import make_meta\n",
    "dd.DataFrame(dask.array.random.randint(20000), name='test', meta={'a':'i64'}, divisions=[0,1,2])\n",
    "dd.DataFrame(dask.array.random.randint(20000), name='test', meta={'a':'i8'}, divisions=[0,1,2])\n",
    "test = dd.DataFrame(dask.array.random.randint(20000), name='test', meta={'a':'i8'}, divisions=[0,1,2])\n",
    "test.head()\n",
    "test\n",
    "test.size\n",
    "test.size()\n",
    "test.size.compute()\n",
    "test = dd.DataFrame(dask.array.random.randint(20000), name='test', meta={'a':'i8'}, divisions=[0,1,2])\n",
    "test = dd.DataFrame(dask.array.random.randint(2000000), name='test', meta={'a':'i8'}, divisions=[0,1,2])\n",
    "import dask.array as da\n",
    "xd = da.random.normal(10, 0.1, size=(30_000, 30_000), chunks=(3000, 3000))\n",
    "xd\n",
    "dd.DataFrame(xd)\n",
    "yd = xd.mean(axis=0)\n",
    "yd.compute()\n",
    "dd.DataFrame(xd, name='t', meta={'a':'i8'}, divisions=[1,2,3])\n",
    "t = dd.DataFrame(xd, name='t', meta={'a':'i8'}, divisions=[1,2,3])\n",
    "yd = t.mean(axis=0)\n",
    "yd.compute()\n",
    "dask.config.set({\"array.backend\": \"cudf\"})\n",
    "xd = da.random.normal(10, 0.1, size=(30_000, 30_000), chunks=(3000, 3000))\n",
    "dask.config.set({\"array.backend\": \"cupy\"})\n",
    "xd = da.random.normal(10, 0.1, size=(30_000, 30_000), chunks=(3000, 3000))\n",
    "yd = t.mean(axis=0)\n",
    "yd.compute()\n"
   ]
  },
  {
   "cell_type": "code",
   "execution_count": null,
   "id": "5cbbfb07",
   "metadata": {},
   "outputs": [],
   "source": []
  }
 ],
 "metadata": {
  "kernelspec": {
   "display_name": "Python [conda env:finance]",
   "language": "python",
   "name": "conda-env-finance-py"
  },
  "language_info": {
   "codemirror_mode": {
    "name": "ipython",
    "version": 3
   },
   "file_extension": ".py",
   "mimetype": "text/x-python",
   "name": "python",
   "nbconvert_exporter": "python",
   "pygments_lexer": "ipython3",
   "version": "3.10.13"
  }
 },
 "nbformat": 4,
 "nbformat_minor": 5
}
